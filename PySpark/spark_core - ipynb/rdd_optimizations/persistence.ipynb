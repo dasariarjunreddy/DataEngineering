{
 "cells": [
  {
   "cell_type": "code",
   "execution_count": null,
   "metadata": {},
   "outputs": [],
   "source": [
    "import os\n",
    "from pyspark import SparkContext\n",
    "import pyspark"
   ]
  },
  {
   "cell_type": "code",
   "execution_count": null,
   "metadata": {},
   "outputs": [],
   "source": [
    "data_path = \"/home/user2/trainig_material/PySpark_Code/data\""
   ]
  },
  {
   "cell_type": "code",
   "execution_count": null,
   "metadata": {},
   "outputs": [],
   "source": [
    "sc = SparkContext(\"local\", \"persistence\")"
   ]
  },
  {
   "cell_type": "code",
   "execution_count": null,
   "metadata": {},
   "outputs": [],
   "source": [
    "# Note: In Python, stored objects will always be serialized with the Pickle library, \n",
    "# so it does not matter whether you choose a serialized level.\n",
    "\n",
    "rdd1 = sc.parallelize(range(1, 100), 5)\n",
    "print( rdd1.getStorageLevel() )"
   ]
  },
  {
   "cell_type": "code",
   "execution_count": null,
   "metadata": {},
   "outputs": [],
   "source": [
    "rdd1.cache()\n",
    "print( rdd1.getStorageLevel() )"
   ]
  },
  {
   "cell_type": "code",
   "execution_count": null,
   "metadata": {},
   "outputs": [],
   "source": [
    "rdd1.persist(pyspark.StorageLevel.MEMORY_ONLY)\n",
    "print( rdd1.getStorageLevel() )"
   ]
  },
  {
   "cell_type": "code",
   "execution_count": null,
   "metadata": {},
   "outputs": [],
   "source": [
    "'''\n",
    "rdd1.persist(pyspark.StorageLevel.MEMORY_AND_DISK)\n",
    "print( rdd1.getStorageLevel() )\n",
    "\n",
    "rdd1.persist(pyspark.StorageLevel.DISK_ONLY)\n",
    "print( rdd1.getStorageLevel() )\n",
    "\n",
    "rdd1.persist(pyspark.StorageLevel.MEMORY_ONLY_SER)\n",
    "print( rdd1.getStorageLevel() )\n",
    "\n",
    "rdd1.persist(pyspark.StorageLevel.MEMORY_AND_DISK_SER)\n",
    "print( rdd1.getStorageLevel() )\n",
    "\n",
    "rdd1.persist(pyspark.StorageLevel.MEMORY_ONLY_2)\n",
    "print( rdd1.getStorageLevel() )\n",
    "\n",
    "rdd1.persist(pyspark.StorageLevel.MEMORY_AND_DISK_2)\n",
    "print( rdd1.getStorageLevel() )\n",
    "'''"
   ]
  },
  {
   "cell_type": "code",
   "execution_count": null,
   "metadata": {},
   "outputs": [],
   "source": [
    "rdd1.count()\n",
    "rdd1.unpersist()"
   ]
  },
  {
   "cell_type": "code",
   "execution_count": null,
   "metadata": {},
   "outputs": [],
   "source": [
    "sc.stop()"
   ]
  }
 ],
 "metadata": {
  "kernelspec": {
   "display_name": "Python 3",
   "language": "python",
   "name": "python3"
  },
  "language_info": {
   "codemirror_mode": {
    "name": "ipython",
    "version": 3
   },
   "file_extension": ".py",
   "mimetype": "text/x-python",
   "name": "python",
   "nbconvert_exporter": "python",
   "pygments_lexer": "ipython3",
   "version": "3.6.4"
  }
 },
 "nbformat": 4,
 "nbformat_minor": 2
}
