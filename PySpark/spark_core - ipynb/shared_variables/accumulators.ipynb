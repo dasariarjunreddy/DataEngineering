{
 "cells": [
  {
   "cell_type": "code",
   "execution_count": null,
   "metadata": {},
   "outputs": [],
   "source": [
    "import os\n",
    "from pyspark import SparkContext\n",
    "import pyspark"
   ]
  },
  {
   "cell_type": "code",
   "execution_count": null,
   "metadata": {},
   "outputs": [],
   "source": [
    "sc = SparkContext(\"local\", \"accumulators\")"
   ]
  },
  {
   "cell_type": "code",
   "execution_count": null,
   "metadata": {},
   "outputs": [],
   "source": [
    "# Closure problem\n",
    "counter = 0\n",
    "def increment_counter(x):\n",
    "    global counter\n",
    "    counter += x\n",
    "\n",
    "sc.parallelize(range(1, 10), 3).foreach(increment_counter)\n",
    "print(\"counter: {}\".format(counter))"
   ]
  },
  {
   "cell_type": "code",
   "execution_count": null,
   "metadata": {},
   "outputs": [],
   "source": [
    "# Accumulator Example 1\n",
    "accum = sc.accumulator(0)\n",
    "sc.parallelize(range(1, 10), 3).foreach(lambda x: accum.add(x))\n",
    "print(\"accum.value: {}\".format(accum.value))"
   ]
  },
  {
   "cell_type": "code",
   "execution_count": null,
   "metadata": {},
   "outputs": [],
   "source": [
    "#Accumulator Example 2\n",
    "count = sc.accumulator(0) \n",
    "\n",
    "def add_accumulator(i):\n",
    "    global count\n",
    "    count.add(1)\n",
    "    return i\n",
    "\n",
    "result = sc.parallelize([1,2,3,4,5,6], 2) \\\n",
    "           .map(lambda i : add_accumulator(i)) \\\n",
    "           .reduce(lambda x,y: x+y)\n",
    "\n",
    "print(\"result: {}\".format(result))\n",
    "print(\"count: {}\".format(count)) "
   ]
  },
  {
   "cell_type": "code",
   "execution_count": null,
   "metadata": {},
   "outputs": [],
   "source": [
    "sc.stop()"
   ]
  }
 ],
 "metadata": {
  "kernelspec": {
   "display_name": "Python 3",
   "language": "python",
   "name": "python3"
  },
  "language_info": {
   "codemirror_mode": {
    "name": "ipython",
    "version": 3
   },
   "file_extension": ".py",
   "mimetype": "text/x-python",
   "name": "python",
   "nbconvert_exporter": "python",
   "pygments_lexer": "ipython3",
   "version": "3.6.4"
  }
 },
 "nbformat": 4,
 "nbformat_minor": 2
}
