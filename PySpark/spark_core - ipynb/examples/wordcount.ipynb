{
 "cells": [
  {
   "cell_type": "code",
   "execution_count": null,
   "metadata": {},
   "outputs": [],
   "source": [
    "from pyspark import SparkContext, SparkConf\n",
    "import os\n",
    "import shutil "
   ]
  },
  {
   "cell_type": "code",
   "execution_count": null,
   "metadata": {},
   "outputs": [],
   "source": [
    "data_path = \"/home/user2/trainig_material/PySpark_Code/data\""
   ]
  },
  {
   "cell_type": "code",
   "execution_count": null,
   "metadata": {},
   "outputs": [],
   "source": [
    "config = SparkConf().setAll([('spark.executor.memory', '4g'), ('spark.executor.cores', '2'), ('spark.cores.max', '2'), ('spark.driver.memory','4g')])  \\\n",
    "                    .setAppName('Wordcount')\n",
    "\n",
    "sc = SparkContext(conf=config)\n",
    "\n",
    "#sc = SparkContext(\"local\", \"wordcount\")"
   ]
  },
  {
   "cell_type": "code",
   "execution_count": null,
   "metadata": {},
   "outputs": [],
   "source": [
    "text_file = sc.textFile(os.path.join(data_path, \"wordcount.txt\") )\n",
    "        \n",
    "wordcount = text_file.flatMap(lambda line: line.split(\" \"))  \\\n",
    "                .map(lambda word: (word, 1)) \\\n",
    "                .reduceByKey(lambda a, b: a + b)\n",
    "    \n",
    "output_path = os.path.join(data_path, \"wordcount_outx\")\n",
    "\n",
    "# delete the output directory if exists..\n",
    "if (os.path.isdir(output_path)):\n",
    "    shutil.rmtree(output_path)\n",
    "\n",
    "wordcount.saveAsTextFile(output_path)\n"
   ]
  },
  {
   "cell_type": "code",
   "execution_count": null,
   "metadata": {},
   "outputs": [],
   "source": [
    "sc.stop()"
   ]
  }
 ],
 "metadata": {
  "kernelspec": {
   "display_name": "Python 3",
   "language": "python",
   "name": "python3"
  },
  "language_info": {
   "codemirror_mode": {
    "name": "ipython",
    "version": 3
   },
   "file_extension": ".py",
   "mimetype": "text/x-python",
   "name": "python",
   "nbconvert_exporter": "python",
   "pygments_lexer": "ipython3",
   "version": "3.6.4"
  }
 },
 "nbformat": 4,
 "nbformat_minor": 2
}
