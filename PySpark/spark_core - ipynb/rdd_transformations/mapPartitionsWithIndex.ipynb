{
 "cells": [
  {
   "cell_type": "code",
   "execution_count": null,
   "metadata": {},
   "outputs": [],
   "source": [
    "from pyspark import SparkContext"
   ]
  },
  {
   "cell_type": "code",
   "execution_count": null,
   "metadata": {},
   "outputs": [],
   "source": [
    "sc = SparkContext(\"local\", \"mapPartitionsWithIndex\")"
   ]
  },
  {
   "cell_type": "code",
   "execution_count": null,
   "metadata": {},
   "outputs": [],
   "source": [
    "#########################################\n",
    "#   mapPartitions - Example 1\n",
    "#########################################\n",
    "rdd_parallal = sc.parallelize(range(1, 12), 3)  #(1,2,3), (4,5,6,7), (8,9,10,11)\n",
    "\n",
    "def show(index, iterator): \n",
    "    yield 'index: ' + str(index) + \"; values: \" + str(list(iterator))\n",
    "\n",
    "rdd_mpwi = rdd_parallal.mapPartitionsWithIndex(show)\n",
    "print(rdd_mpwi.collect())"
   ]
  },
  {
   "cell_type": "code",
   "execution_count": null,
   "metadata": {},
   "outputs": [],
   "source": [
    "#########################################\n",
    "#   mapPartitions - Example 2\n",
    "#########################################\n",
    "rdd_parallal_2 = sc.parallelize([\"white\", \"magenta\", \"red\", \"green\", \"blue\", \"cyan\", \"black\"], 3)\n",
    "    \n",
    "def show_2(index, iterator): \n",
    "    out = \"\"\n",
    "    iter1 = map(lambda x: x + \" (\" + str(len(x)) + \")\" , iterator)\n",
    "    \n",
    "    for e in list(iter1):\n",
    "        if out == \"\":\n",
    "            out = e\n",
    "        else:\n",
    "            out += \", \" + e  \n",
    "          \n",
    "    yield '\\nCalled in Partition: ' + str(index) + \"; \\nValues: \" + out\n",
    "    \n",
    "rdd_mpwi_2 = rdd_parallal_2.mapPartitionsWithIndex(show_2)\n",
    " \n",
    "for x in  rdd_mpwi_2.collect(): \n",
    "    print(x)"
   ]
  },
  {
   "cell_type": "code",
   "execution_count": null,
   "metadata": {},
   "outputs": [],
   "source": [
    "sc.stop()"
   ]
  }
 ],
 "metadata": {
  "kernelspec": {
   "display_name": "Python 3",
   "language": "python",
   "name": "python3"
  },
  "language_info": {
   "codemirror_mode": {
    "name": "ipython",
    "version": 3
   },
   "file_extension": ".py",
   "mimetype": "text/x-python",
   "name": "python",
   "nbconvert_exporter": "python",
   "pygments_lexer": "ipython3",
   "version": "3.6.4"
  }
 },
 "nbformat": 4,
 "nbformat_minor": 2
}
