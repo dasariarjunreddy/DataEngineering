{
 "cells": [
  {
   "cell_type": "code",
   "execution_count": null,
   "metadata": {},
   "outputs": [],
   "source": [
    "import os\n",
    "from pyspark import SparkContext"
   ]
  },
  {
   "cell_type": "code",
   "execution_count": null,
   "metadata": {},
   "outputs": [],
   "source": [
    "data_path = \"/home/user2/trainig_material/PySpark_Code/data\""
   ]
  },
  {
   "cell_type": "code",
   "execution_count": null,
   "metadata": {},
   "outputs": [],
   "source": [
    "sc = SparkContext(\"local\", \"aggregateByKey\")"
   ]
  },
  {
   "cell_type": "code",
   "execution_count": null,
   "metadata": {},
   "outputs": [],
   "source": [
    "# Creating PairRDD student_rdd with key value pairs\n",
    "student_rdd = sc.parallelize([\n",
    "  (\"Aditya\", \"Maths\", 83), (\"Aditya\", \"Physics\", 74), (\"Aditya\", \"Chemistry\", 91), (\"Aditya\", \"English\", 82), \n",
    "  (\"Amrita\", \"Maths\", 69), (\"Amrita\", \"Physics\", 62), (\"Amrita\", \"Chemistry\", 97), (\"Amrita\", \"English\", 80), \n",
    "  (\"Pranav\", \"Maths\", 78), (\"Pranav\", \"Physics\", 73), (\"Pranav\", \"Chemistry\", 68), (\"Pranav\", \"English\", 87), \n",
    "  (\"Keerthana\", \"Maths\", 87), (\"Keerthana\", \"Physics\", 93), (\"Keerthana\", \"Chemistry\", 91), (\"Keerthana\", \"English\", 74), \n",
    "  (\"Harsha\", \"Maths\", 56), (\"Harsha\", \"Physics\", 65), (\"Harsha\", \"Chemistry\", 71), (\"Harsha\", \"English\", 68), \n",
    "  (\"Vidya\", \"Maths\", 86), (\"Vidya\", \"Physics\", 62), (\"Vidya\", \"Chemistry\", 75), (\"Vidya\", \"English\", 83), \n",
    "  (\"Komala\", \"Maths\", 63), (\"Komala\", \"Physics\", 69), (\"Komala\", \"Chemistry\", 64), (\"Komala\", \"English\", 60)], 3)"
   ]
  },
  {
   "cell_type": "code",
   "execution_count": null,
   "metadata": {},
   "outputs": [],
   "source": [
    "# Sequence operation : Finding Maximum Marks from a single partition\n",
    "# accumulator = 0, element = (subject, marks)\n",
    "\n",
    "#####################################################\n",
    "# Ex 1: Print Max Marks per Student                 #\n",
    "# accumulator: 0, element: (subject, marks)         #\n",
    "#####################################################\n",
    "\n",
    "def seq_op(accumulator, element):\n",
    "    if(accumulator > element[1]):\n",
    "        return accumulator \n",
    "    else: \n",
    "        return element[1]\n",
    " \n",
    " \n",
    "    \n",
    "# Combiner Operation : Finding Maximum Marks out of Partition-Wise Accumulators\n",
    "def comb_op(accumulator1, accumulator2):\n",
    "    if(accumulator1 > accumulator2):\n",
    "        return accumulator1 \n",
    "    else:\n",
    "        return accumulator2\n",
    " \n",
    "# Zero Value: Zero value in our case will be 0 as we are finding Maximum Marks\n",
    "zero_val = 0\n",
    "aggr_rdd = student_rdd.map(lambda t: (t[0], (t[1], t[2]))) \\\n",
    "                      .aggregateByKey(zero_val, seq_op, comb_op) \n",
    " \n",
    "\n",
    "                      \n",
    "# Check the Outout\n",
    "for tpl in aggr_rdd.collect():\n",
    "    print(tpl)"
   ]
  },
  {
   "cell_type": "code",
   "execution_count": null,
   "metadata": {},
   "outputs": [],
   "source": [
    "#####################################################\n",
    "# Ex 2: Print Subject name along with Max Marks     #\n",
    "# accumulator: ('', 0), element: (subject, marks)   #\n",
    "#####################################################\n",
    " \n",
    "# Defining Seqencial Operation and Combiner Operations\n",
    "def seq_op(accumulator, element):\n",
    "    if(accumulator[1] > element[1]):\n",
    "        return accumulator \n",
    "    else: \n",
    "        return element\n",
    " \n",
    " \n",
    "# Combiner Operation : Finding Maximum Marks out Partition-Wise Accumulators\n",
    "def comb_op(accumulator1, accumulator2):\n",
    "    if(accumulator1[1] > accumulator2[1]):\n",
    "        return accumulator1 \n",
    "    else:\n",
    "        return accumulator2\n",
    "    \n",
    " \n",
    "# Zero Value: Zero value in our case will be 0 as we are finding Maximum Marks\n",
    "zero_val = ('', 0)\n",
    "aggr_rdd = student_rdd.map(lambda t: (t[0], (t[1], t[2])))     \\\n",
    "                      .aggregateByKey(zero_val, seq_op, comb_op) \n",
    " \n",
    "# Check the Outout\n",
    "for tpl in aggr_rdd.collect():\n",
    "    print(tpl)"
   ]
  },
  {
   "cell_type": "code",
   "execution_count": null,
   "metadata": {},
   "outputs": [],
   "source": [
    "######################################################\n",
    "# Ex 3: Print over all percentage of all students   #\n",
    "# accumulator: ('', 0), element: (subject, marks)   #\n",
    "######################################################\n",
    " \n",
    "# Defining Seqencial Operation and Combiner Operations\n",
    "def seq_op(accumulator, element):\n",
    "    return (accumulator[0] + element[1], accumulator[1] + 1)\n",
    "    \n",
    " \n",
    "# Combiner Operation : Finding Maximum Marks out Partition-Wise Accumulators\n",
    "def comb_op(accumulator1, accumulator2):\n",
    "    return (accumulator1[0] + accumulator2[0], accumulator1[1] + accumulator2[1])\n",
    "    \n",
    " \n",
    "# Zero Value: Zero value in our case will be 0 as we are finding Maximum Marks\n",
    "zero_val = (0, 0)\n",
    "aggr_rdd = student_rdd.map(lambda t: (t[0], (t[1], t[2])))   \\\n",
    "                      .aggregateByKey(zero_val, seq_op, comb_op)  \\\n",
    "                      .map(lambda t: (t[0], t[1][0]/t[1][1]*1.0))\n",
    "  \n",
    " \n",
    "# Check the Outout\n",
    "for tpl in aggr_rdd.collect():\n",
    "    print(tpl) "
   ]
  },
  {
   "cell_type": "code",
   "execution_count": null,
   "metadata": {},
   "outputs": [],
   "source": [
    "sc.stop()"
   ]
  }
 ],
 "metadata": {
  "kernelspec": {
   "display_name": "Python 3",
   "language": "python",
   "name": "python3"
  },
  "language_info": {
   "codemirror_mode": {
    "name": "ipython",
    "version": 3
   },
   "file_extension": ".py",
   "mimetype": "text/x-python",
   "name": "python",
   "nbconvert_exporter": "python",
   "pygments_lexer": "ipython3",
   "version": "3.6.4"
  }
 },
 "nbformat": 4,
 "nbformat_minor": 2
}
