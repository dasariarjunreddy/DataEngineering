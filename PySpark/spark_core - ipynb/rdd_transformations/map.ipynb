{
 "cells": [
  {
   "cell_type": "code",
   "execution_count": null,
   "metadata": {},
   "outputs": [],
   "source": [
    "from pyspark import SparkContext"
   ]
  },
  {
   "cell_type": "code",
   "execution_count": null,
   "metadata": {},
   "outputs": [],
   "source": [
    "sc = SparkContext(\"local\", \"map\")"
   ]
  },
  {
   "cell_type": "code",
   "execution_count": null,
   "metadata": {},
   "outputs": [],
   "source": [
    "data_path = \"/home/user2/trainig_material/PySpark_Code/data\""
   ]
  },
  {
   "cell_type": "code",
   "execution_count": null,
   "metadata": {},
   "outputs": [],
   "source": [
    "#########################################\n",
    "#   map - Example 1\n",
    "#########################################\n",
    "rdd_data = sc.parallelize([1,2,3]) \n",
    "\n",
    "rdd_map_1 = rdd_data.map(lambda x: [x,x,x])\n",
    "for x in rdd_map_1.collect(): print(x) \n",
    "\n",
    "rdd_map_2 = rdd_data.map(lambda x: x**2)\n",
    "for x in rdd_map_2.collect(): print(x) "
   ]
  },
  {
   "cell_type": "code",
   "execution_count": null,
   "metadata": {},
   "outputs": [],
   "source": [
    "#########################################\n",
    "#   map - Example 2\n",
    "#########################################\n",
    "baby_names_csv_file = os.path.join(data_path, \"Baby_Names.csv\")\n",
    "baby_names = sc.textFile(baby_names_csv_file)\n",
    "rows = baby_names.map(lambda line: line.split(\",\"))\n",
    "print(\"Total number of Rows:\", rows.count())\n",
    "for row in rows.take(10): print(row[1].lower())\n",
    "\n",
    "# get names and their length\n",
    "rows2 = rows.map(lambda line: (line[1], len(line[1])))\n",
    "for x in rows2.take(10): print(x)"
   ]
  },
  {
   "cell_type": "code",
   "execution_count": null,
   "metadata": {},
   "outputs": [],
   "source": [
    "sc.stop()"
   ]
  }
 ],
 "metadata": {
  "kernelspec": {
   "display_name": "Python 3",
   "language": "python",
   "name": "python3"
  },
  "language_info": {
   "codemirror_mode": {
    "name": "ipython",
    "version": 3
   },
   "file_extension": ".py",
   "mimetype": "text/x-python",
   "name": "python",
   "nbconvert_exporter": "python",
   "pygments_lexer": "ipython3",
   "version": "3.6.4"
  }
 },
 "nbformat": 4,
 "nbformat_minor": 2
}
