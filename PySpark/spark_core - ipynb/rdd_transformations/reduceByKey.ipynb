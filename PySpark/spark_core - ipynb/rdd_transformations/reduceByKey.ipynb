{
 "cells": [
  {
   "cell_type": "code",
   "execution_count": null,
   "metadata": {},
   "outputs": [],
   "source": [
    "from pyspark import SparkContext"
   ]
  },
  {
   "cell_type": "code",
   "execution_count": null,
   "metadata": {},
   "outputs": [],
   "source": [
    "sc = SparkContext(\"local\", \"reduceByKey\")"
   ]
  },
  {
   "cell_type": "code",
   "execution_count": null,
   "metadata": {},
   "outputs": [],
   "source": [
    "data_path = \"/home/user2/trainig_material/PySpark_Code/data\""
   ]
  },
  {
   "cell_type": "code",
   "execution_count": null,
   "metadata": {},
   "outputs": [],
   "source": [
    "########### Example 1 ############\n",
    "rdd1 = sc.parallelize([(\"USA\", 1), (\"USA\", 2), (\"India\", 1),\n",
    "                       (\"UK\", 1), (\"India\", 4), (\"India\", 9),\n",
    "                       (\"USA\", 8), (\"USA\", 3), (\"India\", 4),\n",
    "                       (\"UK\", 6), (\"UK\", 9), (\"UK\", 5)])\n",
    "\n",
    "rdd2 = rdd1.reduceByKey( lambda a1, a2: a1 - a2 )\n",
    "print ( rdd2.collect() )"
   ]
  },
  {
   "cell_type": "code",
   "execution_count": null,
   "metadata": {},
   "outputs": [],
   "source": [
    "########### Example 2 ############\n",
    "baby_names_csv_file = os.path.join(data_path, \"Baby_Names.csv\")\n",
    "baby_names = sc.textFile(baby_names_csv_file)\n",
    "\n",
    "filtered_rows = baby_names.filter(lambda line: \"Count\" not in line)  \\\n",
    "                          .map(lambda line: line.split(\",\")) \\\n",
    "                          .map(lambda n:  (str(n[1]), int(n[4])))  \\\n",
    "                          .reduceByKey(lambda v1,v2: v1 + v2)\n",
    "                          \n",
    "print ( filtered_rows.collect() )"
   ]
  },
  {
   "cell_type": "code",
   "execution_count": null,
   "metadata": {},
   "outputs": [],
   "source": [
    "sc.stop()"
   ]
  }
 ],
 "metadata": {
  "kernelspec": {
   "display_name": "Python 3",
   "language": "python",
   "name": "python3"
  },
  "language_info": {
   "codemirror_mode": {
    "name": "ipython",
    "version": 3
   },
   "file_extension": ".py",
   "mimetype": "text/x-python",
   "name": "python",
   "nbconvert_exporter": "python",
   "pygments_lexer": "ipython3",
   "version": "3.6.4"
  }
 },
 "nbformat": 4,
 "nbformat_minor": 2
}
