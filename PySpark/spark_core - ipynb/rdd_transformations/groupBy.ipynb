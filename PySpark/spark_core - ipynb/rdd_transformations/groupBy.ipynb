{
 "cells": [
  {
   "cell_type": "code",
   "execution_count": null,
   "metadata": {},
   "outputs": [],
   "source": [
    "from pyspark import SparkContext"
   ]
  },
  {
   "cell_type": "code",
   "execution_count": null,
   "metadata": {},
   "outputs": [],
   "source": [
    "sc = SparkContext(\"local\", \"groupBy\")"
   ]
  },
  {
   "cell_type": "code",
   "execution_count": null,
   "metadata": {},
   "outputs": [],
   "source": [
    "data_path = \"/home/user2/trainig_material/PySpark_Code/data\""
   ]
  },
  {
   "cell_type": "code",
   "execution_count": null,
   "metadata": {},
   "outputs": [],
   "source": [
    "#############  Example 1 ################\n",
    "x = sc.parallelize([\"Ramya\", \"Ramesh\", \"Rajeev\", \"Ramya\", \"Bhavya\",\n",
    "                    \"Chetan\", \"Charlee\", \"Bhagat\",\n",
    "                    \"Bharat\", \"Bony\", \"Bhavya\"], 3)\n",
    "\n",
    "# Applying groupBy operation on x\n",
    "y = x.groupBy(lambda word: word[0])\n",
    " \n",
    "for t in y.collect():\n",
    "    print((t[0],[i for i in t[1]]))"
   ]
  },
  {
   "cell_type": "code",
   "execution_count": null,
   "metadata": {},
   "outputs": [],
   "source": [
    "#############  Example 2 ################\n",
    "baby_names_csv_file = os.path.join(data_path, \"Baby_Names.csv\")\n",
    "baby_names = sc.textFile(baby_names_csv_file)\n",
    "\n",
    "rdd1 = baby_names.map(lambda line: line.split(\",\")) \n",
    "rdd2 = rdd1.map(lambda arr: arr[1])  \n",
    "rdd3 = rdd2.groupBy(lambda name: name[0])\n",
    "\n",
    "#for t in rdd3.take(5): print((t[0],[i for i in t[1]]))\n",
    "\n",
    "rdd4 = rdd3.map(lambda t: (t[0], len(t[1])))\n",
    "print( rdd4.take(5) )"
   ]
  },
  {
   "cell_type": "code",
   "execution_count": null,
   "metadata": {},
   "outputs": [],
   "source": [
    "sc.stop()"
   ]
  }
 ],
 "metadata": {
  "kernelspec": {
   "display_name": "Python 3",
   "language": "python",
   "name": "python3"
  },
  "language_info": {
   "codemirror_mode": {
    "name": "ipython",
    "version": 3
   },
   "file_extension": ".py",
   "mimetype": "text/x-python",
   "name": "python",
   "nbconvert_exporter": "python",
   "pygments_lexer": "ipython3",
   "version": "3.6.4"
  }
 },
 "nbformat": 4,
 "nbformat_minor": 2
}
