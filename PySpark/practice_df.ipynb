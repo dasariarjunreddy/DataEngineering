{
 "cells": [
  {
   "cell_type": "code",
   "execution_count": 2,
   "metadata": {},
   "outputs": [],
   "source": [
    "import findspark\n",
    "\n",
    "findspark.init()\n"
   ]
  },
  {
   "cell_type": "code",
   "execution_count": 3,
   "metadata": {},
   "outputs": [
    {
     "data": {
      "text/html": [
       "\n",
       "            <div>\n",
       "                <p><b>SparkSession - in-memory</b></p>\n",
       "                \n",
       "        <div>\n",
       "            <p><b>SparkContext</b></p>\n",
       "\n",
       "            <p><a href=\"http://Asha:4040\">Spark UI</a></p>\n",
       "\n",
       "            <dl>\n",
       "              <dt>Version</dt>\n",
       "                <dd><code>v3.4.3</code></dd>\n",
       "              <dt>Master</dt>\n",
       "                <dd><code>local[4]</code></dd>\n",
       "              <dt>AppName</dt>\n",
       "                <dd><code>df_spark</code></dd>\n",
       "            </dl>\n",
       "        </div>\n",
       "        \n",
       "            </div>\n",
       "        "
      ],
      "text/plain": [
       "<pyspark.sql.session.SparkSession at 0x1c707ae4050>"
      ]
     },
     "execution_count": 3,
     "metadata": {},
     "output_type": "execute_result"
    }
   ],
   "source": [
    "from pyspark.sql import SparkSession\n",
    "\n",
    "spark = SparkSession.builder.master(\"local[4]\").appName(\"df_spark\").getOrCreate()\n",
    "spark"
   ]
  },
  {
   "cell_type": "code",
   "execution_count": 4,
   "metadata": {},
   "outputs": [
    {
     "name": "stdout",
     "output_type": "stream",
     "text": [
      "+---+------------+--------------------+------+\n",
      "|_c0|         _c1|                 _c2|   _c3|\n",
      "+---+------------+--------------------+------+\n",
      "| id|  first_name|           last_name|gender|\n",
      "|  2|     Michael|  'babeepower' Viera|     M|\n",
      "|  3|        Eloy|         'Chincheta'|     M|\n",
      "|  4|    Dieguito|         'El Cigala'|     M|\n",
      "|  5|     Antonio|    'El de Chipiona'|     M|\n",
      "|  6|        José|        'El Francés'|     M|\n",
      "|  7|       Félix|           'El Gato'|     M|\n",
      "|  8|     Marcial|        'El Jalisco'|     M|\n",
      "|  9|        José|         'El Morito'|     M|\n",
      "| 10|   Francisco|'El Niño de la Ma...|     M|\n",
      "| 11|      Víctor|         'El Payaso'|     M|\n",
      "| 12|     Antonio|       'El Pescaíto'|     M|\n",
      "| 13|        Luis|          'El Plojo'|     M|\n",
      "| 14|       Janny|      'el Portugues'|     M|\n",
      "| 15|     Antonio|         'El Rilete'|     M|\n",
      "| 16|    Baltazar|           'El Toro'|     M|\n",
      "| 17|Luis Roberto|           'Formiga'|     M|\n",
      "| 18|  Murray the|                 'K'|     M|\n",
      "| 19|      Néstor|        'Kick Boxer'|     M|\n",
      "| 20|        Tony|         'La Chispa'|     M|\n",
      "+---+------------+--------------------+------+\n",
      "only showing top 20 rows\n",
      "\n"
     ]
    }
   ],
   "source": [
    "df = spark.read.csv('C:/git_dasariarjunreddy/DataEngineering/sample data/actors.csv')\n",
    "df.show()"
   ]
  },
  {
   "cell_type": "code",
   "execution_count": 5,
   "metadata": {},
   "outputs": [
    {
     "name": "stdout",
     "output_type": "stream",
     "text": [
      "DataFrame[id: string, first_name: string, last_name: string, gender: string]\n",
      "+---+------------+--------------------+------+\n",
      "| id|  first_name|           last_name|gender|\n",
      "+---+------------+--------------------+------+\n",
      "|  2|     Michael|  'babeepower' Viera|     M|\n",
      "|  3|        Eloy|         'Chincheta'|     M|\n",
      "|  4|    Dieguito|         'El Cigala'|     M|\n",
      "|  5|     Antonio|    'El de Chipiona'|     M|\n",
      "|  6|        José|        'El Francés'|     M|\n",
      "|  7|       Félix|           'El Gato'|     M|\n",
      "|  8|     Marcial|        'El Jalisco'|     M|\n",
      "|  9|        José|         'El Morito'|     M|\n",
      "| 10|   Francisco|'El Niño de la Ma...|     M|\n",
      "| 11|      Víctor|         'El Payaso'|     M|\n",
      "| 12|     Antonio|       'El Pescaíto'|     M|\n",
      "| 13|        Luis|          'El Plojo'|     M|\n",
      "| 14|       Janny|      'el Portugues'|     M|\n",
      "| 15|     Antonio|         'El Rilete'|     M|\n",
      "| 16|    Baltazar|           'El Toro'|     M|\n",
      "| 17|Luis Roberto|           'Formiga'|     M|\n",
      "| 18|  Murray the|                 'K'|     M|\n",
      "| 19|      Néstor|        'Kick Boxer'|     M|\n",
      "| 20|        Tony|         'La Chispa'|     M|\n",
      "| 21|     Pollino|            'Romero'|     M|\n",
      "+---+------------+--------------------+------+\n",
      "only showing top 20 rows\n",
      "\n"
     ]
    }
   ],
   "source": [
    "actors_df = spark.read.format('csv').option('header','true').load('C:/git_dasariarjunreddy/DataEngineering/sample data/actors.csv')\n",
    "print(actors_df)\n",
    "# display(actors_df)\n",
    "actors_df.show()"
   ]
  },
  {
   "cell_type": "code",
   "execution_count": 6,
   "metadata": {},
   "outputs": [
    {
     "name": "stdout",
     "output_type": "stream",
     "text": [
      "+----------+\n",
      "|first_name|\n",
      "+----------+\n",
      "|   Michael|\n",
      "|      Eloy|\n",
      "|  Dieguito|\n",
      "+----------+\n",
      "\n"
     ]
    }
   ],
   "source": [
    "actors_df.select(\"first_name\").filter(\"id<5\").show()"
   ]
  },
  {
   "cell_type": "code",
   "execution_count": 7,
   "metadata": {},
   "outputs": [
    {
     "name": "stdout",
     "output_type": "stream",
     "text": [
      "+----------+\n",
      "|first_name|\n",
      "+----------+\n",
      "|   Michael|\n",
      "|      Eloy|\n",
      "|  Dieguito|\n",
      "+----------+\n",
      "\n"
     ]
    }
   ],
   "source": [
    "actors_df.select(actors_df.first_name).filter(\"id<5\").show()"
   ]
  },
  {
   "cell_type": "code",
   "execution_count": 8,
   "metadata": {},
   "outputs": [
    {
     "name": "stdout",
     "output_type": "stream",
     "text": [
      "+----------+\n",
      "|first_name|\n",
      "+----------+\n",
      "|   Michael|\n",
      "|      Eloy|\n",
      "|  Dieguito|\n",
      "+----------+\n",
      "\n"
     ]
    }
   ],
   "source": [
    "actors_df.select(actors_df.first_name).filter(actors_df.id<5).show()"
   ]
  },
  {
   "cell_type": "code",
   "execution_count": 9,
   "metadata": {},
   "outputs": [
    {
     "name": "stdout",
     "output_type": "stream",
     "text": [
      "+----------+\n",
      "|first_name|\n",
      "+----------+\n",
      "|   Michael|\n",
      "|      Eloy|\n",
      "|  Dieguito|\n",
      "+----------+\n",
      "\n"
     ]
    }
   ],
   "source": [
    "from pyspark.sql.functions import col\n",
    "actors_df.select(col(\"first_name\")).filter(\"id<5\").show()"
   ]
  },
  {
   "cell_type": "code",
   "execution_count": 10,
   "metadata": {},
   "outputs": [
    {
     "name": "stdout",
     "output_type": "stream",
     "text": [
      "DataFrame[id: string, first_name: string, last_name: string]\n",
      "+---+------------------+-----------+\n",
      "| id|        first_name|  last_name|\n",
      "+---+------------------+-----------+\n",
      "|  1|              Todd|          1|\n",
      "|  2|               Les|12 Poissons|\n",
      "|  3|           Lejaren|   a'Hiller|\n",
      "|  4|              Nian|          A|\n",
      "|  5|          Khairiya|  A-Mansour|\n",
      "|  6|           Ricardo|   A. Solla|\n",
      "|  8|Kodanda Rami Reddy|         A.|\n",
      "|  9|     Nageswara Rao|         A.|\n",
      "| 10|              Yuri|         A.|\n",
      "| 11|             Swamy|     A.S.A.|\n",
      "| 12|           Per (I)|      Aabel|\n",
      "| 13|            Eivind|      Aaeng|\n",
      "| 14|              Mang|        Aag|\n",
      "| 15|           Sigfred|    Aagaard|\n",
      "| 16|           Michael|    Aaglund|\n",
      "| 17|            Safdar|        Aah|\n",
      "| 18|            Astrid|      Aakra|\n",
      "| 19|      Mohamad Reza|     Aalami|\n",
      "| 20|             Jefri|Aalmuhammed|\n",
      "| 21|         Rostislav|      Aalto|\n",
      "+---+------------------+-----------+\n",
      "only showing top 20 rows\n",
      "\n"
     ]
    }
   ],
   "source": [
    "drts_df = spark.read.format('csv').option('header','true').load('C:/git_dasariarjunreddy/DataEngineering/sample data/directors.csv')\n",
    "print(drts_df)\n",
    "# display(actors_df)\n",
    "drts_df.show()"
   ]
  },
  {
   "cell_type": "code",
   "execution_count": 11,
   "metadata": {},
   "outputs": [
    {
     "name": "stdout",
     "output_type": "stream",
     "text": [
      "DataFrame[director_id: string, genre: string, prob: string]\n",
      "+-----------+-----------+--------+\n",
      "|director_id|      genre|    prob|\n",
      "+-----------+-----------+--------+\n",
      "|          2|      Short|       1|\n",
      "|          3|      Drama|       1|\n",
      "|          5|Documentary|       1|\n",
      "|          6|      Drama|       1|\n",
      "|          6|      Short|       1|\n",
      "|          8|     Action|0.666667|\n",
      "|          8|  Adventure|0.037037|\n",
      "|          8|     Comedy|0.185185|\n",
      "|          8|      Crime|0.148148|\n",
      "|          8|      Drama|0.592593|\n",
      "|          8|     Family|0.407407|\n",
      "|          8|    Romance|0.222222|\n",
      "|          8|   Thriller|0.111111|\n",
      "|         10|     Comedy|       1|\n",
      "|         10|      Short|       1|\n",
      "|         11|      Drama|       1|\n",
      "|         12|     Comedy|       1|\n",
      "|         16|      Short|       1|\n",
      "|         18|  Animation|       1|\n",
      "|         18|     Comedy|       1|\n",
      "+-----------+-----------+--------+\n",
      "only showing top 20 rows\n",
      "\n"
     ]
    }
   ],
   "source": [
    "drts_gnr_df = spark.read.format('csv').option('header','true').load('C:/git_dasariarjunreddy/DataEngineering/sample data/directors_genres.csv')\n",
    "print(drts_gnr_df)\n",
    "# display(actors_df)\n",
    "drts_gnr_df.show()"
   ]
  },
  {
   "cell_type": "code",
   "execution_count": 12,
   "metadata": {},
   "outputs": [
    {
     "name": "stdout",
     "output_type": "stream",
     "text": [
      "+---+------------------+-----------+-----------+-----------+--------+\n",
      "| id|        first_name|  last_name|director_id|      genre|    prob|\n",
      "+---+------------------+-----------+-----------+-----------+--------+\n",
      "|  2|               Les|12 Poissons|          2|      Short|       1|\n",
      "|  3|           Lejaren|   a'Hiller|          3|      Drama|       1|\n",
      "|  5|          Khairiya|  A-Mansour|          5|Documentary|       1|\n",
      "|  6|           Ricardo|   A. Solla|          6|      Drama|       1|\n",
      "|  6|           Ricardo|   A. Solla|          6|      Short|       1|\n",
      "|  8|Kodanda Rami Reddy|         A.|          8|     Action|0.666667|\n",
      "|  8|Kodanda Rami Reddy|         A.|          8|  Adventure|0.037037|\n",
      "|  8|Kodanda Rami Reddy|         A.|          8|     Comedy|0.185185|\n",
      "|  8|Kodanda Rami Reddy|         A.|          8|      Crime|0.148148|\n",
      "|  8|Kodanda Rami Reddy|         A.|          8|      Drama|0.592593|\n",
      "|  8|Kodanda Rami Reddy|         A.|          8|     Family|0.407407|\n",
      "|  8|Kodanda Rami Reddy|         A.|          8|    Romance|0.222222|\n",
      "|  8|Kodanda Rami Reddy|         A.|          8|   Thriller|0.111111|\n",
      "| 10|              Yuri|         A.|         10|     Comedy|       1|\n",
      "| 10|              Yuri|         A.|         10|      Short|       1|\n",
      "| 11|             Swamy|     A.S.A.|         11|      Drama|       1|\n",
      "| 12|           Per (I)|      Aabel|         12|     Comedy|       1|\n",
      "| 16|           Michael|    Aaglund|         16|      Short|       1|\n",
      "| 18|            Astrid|      Aakra|         18|  Animation|       1|\n",
      "| 18|            Astrid|      Aakra|         18|     Comedy|       1|\n",
      "+---+------------------+-----------+-----------+-----------+--------+\n",
      "only showing top 20 rows\n",
      "\n"
     ]
    }
   ],
   "source": [
    "result = drts_df.join(drts_gnr_df, drts_gnr_df[\"director_id\"]==drts_df[\"id\"], how=\"inner\")\n",
    "result.show()\n"
   ]
  },
  {
   "cell_type": "code",
   "execution_count": null,
   "metadata": {},
   "outputs": [],
   "source": []
  }
 ],
 "metadata": {
  "kernelspec": {
   "display_name": "Python 3",
   "language": "python",
   "name": "python3"
  },
  "language_info": {
   "codemirror_mode": {
    "name": "ipython",
    "version": 3
   },
   "file_extension": ".py",
   "mimetype": "text/x-python",
   "name": "python",
   "nbconvert_exporter": "python",
   "pygments_lexer": "ipython3",
   "version": "3.11.9"
  }
 },
 "nbformat": 4,
 "nbformat_minor": 2
}
