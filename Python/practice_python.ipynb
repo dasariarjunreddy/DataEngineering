{
 "cells": [
  {
   "cell_type": "markdown",
   "metadata": {},
   "source": [
    "# 1. Write a function that inputs a number and prints the multiplication table of that number"
   ]
  },
  {
   "cell_type": "code",
   "execution_count": 1,
   "metadata": {},
   "outputs": [],
   "source": [
    "def mul(num):\n",
    "    '''This function prints the multiplication table of the given input i.e.,num'''\n",
    "    for i in range(1,11):#This 'for' loop iterates for 10 times i.e., range of 10 from 1.\n",
    "        print(num,\"x\",i,\"=\",num*i,\"\\n\")#prints the product of num and i for each iteration.\n",
    "        "
   ]
  },
  {
   "cell_type": "code",
   "execution_count": 2,
   "metadata": {},
   "outputs": [
    {
     "name": "stdout",
     "output_type": "stream",
     "text": [
      "Enter a integer: 17\n",
      "17 x 1 = 17 \n",
      "\n",
      "17 x 2 = 34 \n",
      "\n",
      "17 x 3 = 51 \n",
      "\n",
      "17 x 4 = 68 \n",
      "\n",
      "17 x 5 = 85 \n",
      "\n",
      "17 x 6 = 102 \n",
      "\n",
      "17 x 7 = 119 \n",
      "\n",
      "17 x 8 = 136 \n",
      "\n",
      "17 x 9 = 153 \n",
      "\n",
      "17 x 10 = 170 \n",
      "\n",
      "Enter a integer: q\n"
     ]
    }
   ],
   "source": [
    "while True:\n",
    "    try:\n",
    "        c=input(\"Enter a integer: \")#Reads the input from keyboard and stores it in variable c\n",
    "        if c=='q': #checks the user input and if it is 'q' then the program is terminated\n",
    "            break\n",
    "        i=int(c) #converts the input into integer\n",
    "        mul(i)# takes the input from user and passes the same as parameter for function mul.\n",
    "    except:\n",
    "        print(\"Enter valid number!\")#if the input is other than the integer and character 'q'then this exception raises"
   ]
  },
  {
   "cell_type": "code",
   "execution_count": 3,
   "metadata": {},
   "outputs": [
    {
     "name": "stdout",
     "output_type": "stream",
     "text": [
      "This function prints the multiplication table of the given input i.e.,num\n"
     ]
    }
   ],
   "source": [
    "print(mul.__doc__)"
   ]
  },
  {
   "cell_type": "markdown",
   "metadata": {},
   "source": [
    "# 2. Write a program to print twin primes less than 1000. If two consecutive odd numbers are both prime then they are known as twin primes"
   ]
  },
  {
   "cell_type": "code",
   "execution_count": 7,
   "metadata": {},
   "outputs": [
    {
     "name": "stdout",
     "output_type": "stream",
     "text": [
      "[(3, 5), (5, 7), (11, 13), (17, 19), (29, 31), (41, 43), (59, 61), (71, 73), (101, 103), (107, 109), (137, 139), (149, 151), (179, 181), (191, 193), (197, 199), (227, 229), (239, 241), (269, 271), (281, 283), (311, 313), (347, 349), (419, 421), (431, 433), (461, 463), (521, 523), (569, 571), (599, 601), (617, 619), (641, 643), (659, 661), (809, 811), (821, 823), (827, 829), (857, 859), (881, 883)]\n"
     ]
    }
   ],
   "source": [
    "import pdb\n",
    "import math\n",
    "def primeCheck(num):\n",
    "    '''Checks whether the given number is prime or not. It returns True if it is a prime number and False if it is not a prime number'''\n",
    "    count=0;#it is a variable used to count the factors of given number\n",
    "    if num==2:\n",
    "        return True \n",
    "    for i in range(2,math.ceil(math.sqrt(num))+1):# iterates for a range of Square root of given number from 2\n",
    "        if num%i==0:#checks whether the given number is perfectly divisible by i or not for every iteration \n",
    "            count=count+1#count is incremented by 1 if the above condition is true \n",
    "    if count>=1:# checks whether the given number has more than 1 factor \n",
    "        return False # returns False if above condition is True\n",
    "    else:\n",
    "        return True# returns False if the given number has only 1 factor\n",
    "    \n",
    "lst=list(i for i in range(2,1001) if i%2!=0)#list comprehension for making a list of odd numbers less than 1000\n",
    "#print(lst)\n",
    "lst=list(filter(primeCheck, lst))#filter is used to make a list of all the odd prime numbers less than 1000  \n",
    "'''for j in range(0,len(lst)-1):\n",
    "    if (lst[j+1]-2)==lst[j]:\n",
    "        #pdb.set_trace()\n",
    "        print(\"(\",lst[j],\",\",lst[j+1],\")\")'''\n",
    "final=[(lst[j],lst[j+1]) for j in range(0,len(lst)-1) if (lst[j+1]-2)==lst[j]]\n",
    "print(final)        "
   ]
  },
  {
   "cell_type": "markdown",
   "metadata": {},
   "source": [
    "# 3. Write a program to find out the prime factors of a number. Example: prime factors of 56 -2, 2, 2, 7"
   ]
  },
  {
   "cell_type": "code",
   "execution_count": 11,
   "metadata": {},
   "outputs": [
    {
     "name": "stdout",
     "output_type": "stream",
     "text": [
      "Factors of the given number  56  is : [2, 2, 2, 7]\n"
     ]
    }
   ],
   "source": [
    "f=[]#empty list is initialized\n",
    "def factor(n):\n",
    "    '''This function returns the prime factors of the given number i.e., n'''\n",
    "    l=[i for i in range(2,n+1)]#List of n numbers i.e., input given by the user from 2 bcoz 1 is not a prime number\n",
    "    prime=list(filter(primeCheck,l))#It is a list of prime numbers up to given parameter n \n",
    "    for j in range(0,len(prime)):#Iterates all the elements in list prime\n",
    "        if(n%prime[j]==0):#Checks whether the current prime number(prime[j]) is a factor of n or not \n",
    "            f.append(prime[j])#If it is a factor than the prime number(prime[j]) is appended to the list f\n",
    "            break\n",
    "    #pdb.set_trace()         \n",
    "    if n in prime:#Check whether the given parameter n is prime or not  \n",
    "        return#If n is a prime number then the program is terminated bcoz it cannot be divided further\n",
    "    else:    \n",
    "        factor(int(n/prime[j]))#If n is not a prime number then the function is called itself to divide the quotient again     \n",
    "# factor(20)\n",
    "while True:\n",
    "    try:       \n",
    "        z=input(\"Enter a integer: \")#Taking the input from user\n",
    "        if z=='q' or z=='Q':#If the user input is 'q' or 'Q' then the program is terminated\n",
    "            f.clear()#list f is cleared\n",
    "            break\n",
    "        z=int(z)    \n",
    "        factor(z)#Calling the function with parameter given by user \n",
    "        print(\"Factors of the given number \",z,\" is :\",f)#Printing resultant factors\n",
    "    except:\n",
    "        print(\"Enter a valid interger!\")#If the user input is not a integer then this exception is raised \n",
    "    f.clear()    "
   ]
  },
  {
   "cell_type": "markdown",
   "metadata": {},
   "source": [
    "# 4. Write a program to implement these formulae of permutations and combinations.Number of permutations of n objects taken r at a time: p(n, r) = n! / (n-r)!. Number of combinations of n objects taken r at a time is: c(n, r) = n! / (r!*(n-r)!) = p(n,r) / r!"
   ]
  },
  {
   "cell_type": "code",
   "execution_count": 6,
   "metadata": {},
   "outputs": [],
   "source": [
    "def factorial(x):\n",
    "    '''This function returns the factorial of the given number eg:5!=120'''\n",
    "    p=1\n",
    "    for k in range(2,x+1):#Iterates for x times from 2\n",
    "        p=p*k#Product of p and k are calculated and stored in p\n",
    "    return p #Final factorial value of given number is returned   \n",
    "def permutations(n1,r1):\n",
    "    '''This function takes two parameters n & r and returns the p(n,r)'''\n",
    "    return factorial(n1)/factorial(n1-r1)#returns the p(n,r) i.e., n1!/(n1-r1)!"
   ]
  },
  {
   "cell_type": "code",
   "execution_count": 7,
   "metadata": {},
   "outputs": [
    {
     "name": "stdout",
     "output_type": "stream",
     "text": [
      "Enter  P for Permutation and C for Combinations: p\n",
      "Enter n value: 5\n",
      "Enter r value: 4\n",
      "P( 5 , 4 )  =  120\n",
      "Enter  P for Permutation and C for Combinations: p\n",
      "Enter n value: 4\n",
      "Enter r value: 5\n",
      "'n' should be greater than 'r'\n",
      "Enter  P for Permutation and C for Combinations: c\n",
      "Enter n value: 5\n",
      "Enter r value: 4\n",
      "C( 5 , 4 )  =  5\n",
      "Enter  P for Permutation and C for Combinations: q\n"
     ]
    }
   ],
   "source": [
    "while True:\n",
    "    try:\n",
    "        c=input(\"Enter  P for Permutation and C for Combinations: \")#Takes the input from user \n",
    "        if c=='q' or c=='Q':#Checks whether the user input is 'q' or not \n",
    "            break#Terminates the program if above condition is true \n",
    "        elif c=='p'or c=='P':#Checks whether the user input is 'p' or not\n",
    "            n=int(input(\"Enter n value: \"))#Takes n input from user\n",
    "            r=int(input(\"Enter r value: \"))#Takes r input from user\n",
    "            if n<r:\n",
    "                print(\"'n' should be greater than 'r'\")\n",
    "                continue\n",
    "            print(\"P(\",n,\",\",r,\")\",\" = \",int(permutations(n,r)))#calls the function permutations and prints the result\n",
    "        elif c=='c'or c=='C':#Checks whether the user input is 'c' or not\n",
    "            n=int(input(\"Enter n value: \"))#Takes n input from user\n",
    "            r=int(input(\"Enter r value: \"))#Takes r input from user\n",
    "            if n<r:\n",
    "                print(\"'n' should be greater than 'r'\")\n",
    "                continue\n",
    "            print(\"C(\",n,\",\",r,\")\",\" = \",int(permutations(n,r)/factorial(r)))#calls the function combinations and prints the result\n",
    "        else:\n",
    "            print(\"Enter valid option\")    \n",
    "    except:\n",
    "        print(\"Enter valid number for n & r\")#If the user input is not an integer then this exception is raised \n"
   ]
  },
  {
   "cell_type": "markdown",
   "metadata": {},
   "source": [
    "# 5. Write a function that converts a decimal number to binary number"
   ]
  },
  {
   "cell_type": "code",
   "execution_count": 8,
   "metadata": {},
   "outputs": [
    {
     "name": "stdout",
     "output_type": "stream",
     "text": [
      "Enter a integer: 5\n",
      "Binary number of decimal number,  5  is : 101\n",
      "Enter a integer: 21\n",
      "Binary number of decimal number,  21  is : 10101\n",
      "Enter a integer: -12\n",
      "Binary number of decimal number,  -12  is : -1100\n",
      "Enter a integer: q\n"
     ]
    }
   ],
   "source": [
    "import pdb\n",
    "carry=0#It is used to store the carry bit\n",
    "def binary_add(x,y):\n",
    "    '''This function takes two parameters which are binary and returns the sum of them'''\n",
    "    global b\n",
    "    global carry    \n",
    "    max=len(y)\n",
    "    z= [i-i for i in range(0,len(x))]#initializing z with the bit size of the x & y \n",
    "    for o in range(max-1,-1,-1):#Iterates from MSB to LSB\n",
    "        z[o]=x[o]+y[o]+carry# Adds bit by bit of x and y along with carry bit and stores the result in the z in appropriate possition \n",
    "        carry=0#once addition of bits is done, making the carry bit zero\n",
    "        if(z[o]>1):#checking whether the result is greater than 1\n",
    "            b=[]\n",
    "            dec_bin(z[o])#If it is >0 then it is converted to binary\n",
    "            z[o]=b[1]#MSB is stored in z[o]\n",
    "            carry=b[0]#LSB is carry    \n",
    "    b=z#after performing addition z is assigned to global variable b    \n",
    "b=[]\n",
    "def dec_bin(num):\n",
    "    '''This function converts the given decimal number to binary number'''\n",
    "    global b\n",
    "    global f\n",
    "    if num==0 or num==1:#If the given number is either 0 or 1 then the same is returned\n",
    "        b.append(num)       \n",
    "        return \n",
    "    elif num>0:#if the given number is greater than 0\n",
    "        dec_bin(int(num/2))#function is callrd itself with the quotient as the parameter \n",
    "        b.append(num%2)#remainder is appended to list b\n",
    "    else:\n",
    "        num=num*-1#converts the -ve integer to +ve\n",
    "        dec_bin(int(num/2))\n",
    "        b.append(num%2)\n",
    "while True:\n",
    "    try:\n",
    "        n=input(\"Enter a integer: \")\n",
    "        if(n=='q' or n=='Q'):#if the input is 'q' then the program is terminated\n",
    "                break      \n",
    "        else:\n",
    "            dec_bin(int(n))\n",
    "            if int(n)<0:#checks whether the input is -ve or +ve\n",
    "                '''for i in range(0,len(b)):\n",
    "                    if(b[i]==1):\n",
    "                        b[i]=0\n",
    "                    else:\n",
    "                        b[i]=1\n",
    "                temp=[i-i for i in range(0,len(b))]\n",
    "                temp[len(temp)-1]=1\n",
    "                binary_add(b,temp)'''\n",
    "                g= int(\"\".join([str(i) for i in b]))#convert the list into int\n",
    "                g=-1*g#result will be multiplied with -1 since the input is -ve\n",
    "            else:    \n",
    "                g=int(\"\".join([str(i) for i in b]))    \n",
    "            print(\"Binary number of decimal number, \",n,\" is :\",g)\n",
    "            b=[]\n",
    "    except:\n",
    "        print(\"Enter valid number!\")"
   ]
  },
  {
   "cell_type": "markdown",
   "metadata": {},
   "source": [
    "# 6. Write a function cubesum() that accepts an integer and returns the sum of the cubes of individual digits of that number. Use this function to make functions PrintArmstrong() and isArmstrong() to print Armstrong numbers and to find whether is an Armstrong number.\n"
   ]
  },
  {
   "cell_type": "code",
   "execution_count": 9,
   "metadata": {},
   "outputs": [
    {
     "name": "stdout",
     "output_type": "stream",
     "text": [
      "Select any one of the options below:\n",
      "1.Check Whether the number is armstrong or not. \n",
      "2.Show all the armstrong number with in zero to the given number.\n",
      "1\n",
      "Enter a number:153\n",
      "The given number is a Armstrong number.\n",
      "Select any one of the options below:\n",
      "1.Check Whether the number is armstrong or not. \n",
      "2.Show all the armstrong number with in zero to the given number.\n",
      "2\n",
      "Enter the range1000\n",
      "The Armstrong numbers upto given number are:  [1, 153, 370, 371, 407]\n",
      "Select any one of the options below:\n",
      "1.Check Whether the number is armstrong or not. \n",
      "2.Show all the armstrong number with in zero to the given number.\n",
      "q\n"
     ]
    }
   ],
   "source": [
    "def cubesum(n):\n",
    "    '''This function returns the sum of the cubes of individual digits of given number'''\n",
    "    c=0#result is stored in this variable and it is assigned with zero since zero is the additive identity\n",
    "    while n!=0:\n",
    "        c=c+(n%10)**3#here the most significant digit(MSD) is cuded and added with c and assigned to c \n",
    "        n=int(n/10)#the remaining digits i.e., after removing MSD is assigned to n\n",
    "    return c\n",
    "def isArmstrong(x):\n",
    "    '''This function returns true if a given number is armstrong else returns false'''\n",
    "    if x==cubesum(x):\n",
    "        return True\n",
    "    else:\n",
    "        return False\n",
    "def PrintArmstrong(y):\n",
    "    lst=[i for i in range(1,y+1)]\n",
    "    return list(filter(isArmstrong,lst))\n",
    "while True:\n",
    "    try:\n",
    "        z=input(\"Select any one of the options below:\\n1.Check Whether the number is armstrong or not. \\n2.Show all the armstrong number with in zero to the given number.\\n\")\n",
    "        if z=='q' or z=='Q':\n",
    "            break\n",
    "        elif z=='1':\n",
    "            if isArmstrong(int(input(\"Enter a number:\"))):\n",
    "                print(\"The given number is a Armstrong number.\")\n",
    "            else:\n",
    "                print(\"The given number is not a Armstrong number.\")\n",
    "        elif z=='2':\n",
    "            print(\"The Armstrong numbers upto given number are: \",PrintArmstrong(int(input(\"Enter the range\"))))\n",
    "        else:\n",
    "            print(\"Select the correct option, \\nTry Again!\")\n",
    "    except:\n",
    "        print(\"Enter a valid number, \\nTry Again!\")\n",
    "            "
   ]
  },
  {
   "cell_type": "markdown",
   "metadata": {},
   "source": [
    "# 7. Write a function prodDigits() that inputs a number and returns the product of digits of that number. "
   ]
  },
  {
   "cell_type": "code",
   "execution_count": 10,
   "metadata": {},
   "outputs": [
    {
     "name": "stdout",
     "output_type": "stream",
     "text": [
      "30\n"
     ]
    }
   ],
   "source": [
    "def prodDigits(n):\n",
    "    '''This funtion returns the product of digits of the given number.'''\n",
    "    p=1#Multiplicative identity\n",
    "    while n!=0:\n",
    "        p=p*(n%10)#multiplying MSD with p\n",
    "        n=int(n/10)#dividing the number with 10 and that gives the remaining digits except MSD\n",
    "    return p    \n",
    "print(prodDigits(156))"
   ]
  },
  {
   "cell_type": "markdown",
   "metadata": {},
   "source": [
    "# 8. If all digits of a number n are multiplied by each other repeating with the product, the one digit number obtained at last is called the multiplicative digital root of n. The number of times digits need to be multiplied to reach one digit is called the multiplicative persistance of n. \n",
    "# Example: 86 -> 48 -> 32 -> 6 (MDR 6, MPersistence 3) \n",
    "#                  341 -> 12->2 (MDR 2, MPersistence 2)\n",
    "# Using the function prodDigits() of previous exercise write functions MDR() and MPersistence() that input a number and return its multiplicative digital root and multiplicative persistence respectively"
   ]
  },
  {
   "cell_type": "code",
   "execution_count": 11,
   "metadata": {},
   "outputs": [
    {
     "name": "stdout",
     "output_type": "stream",
     "text": [
      "Select Your options\n",
      "1.Multiplicative digital root\n",
      "2.Multiplicative persistence\n",
      "1\n",
      "Enter any integer: 56\n",
      "0\n",
      "Select Your options\n",
      "1.Multiplicative digital root\n",
      "2.Multiplicative persistence\n",
      "1\n",
      "Enter any integer: 86\n",
      "6\n",
      "Select Your options\n",
      "1.Multiplicative digital root\n",
      "2.Multiplicative persistence\n",
      "2\n",
      "Enter any integer: 86\n",
      "3\n",
      "Select Your options\n",
      "1.Multiplicative digital root\n",
      "2.Multiplicative persistence\n",
      "1\n",
      "Enter any integer: 341\n",
      "2\n",
      "Select Your options\n",
      "1.Multiplicative digital root\n",
      "2.Multiplicative persistence\n",
      "2\n",
      "Enter any integer: 341\n",
      "2\n",
      "Select Your options\n",
      "1.Multiplicative digital root\n",
      "2.Multiplicative persistence\n",
      "q\n"
     ]
    }
   ],
   "source": [
    "def MDR(n):\n",
    "    '''This function returns multiplicative digital root of the given number'''\n",
    "    global c\n",
    "    c=0\n",
    "    while len(str(n))>1:#check whether the length of the n is greater than 1\n",
    "        n=prodDigits(n)#prodDigits returns the digit product of the given number\n",
    "        c=c+1#counts the number of steps i.e., multiplicative persistance\n",
    "    return n    \n",
    "def MPersistence(g):\n",
    "    '''This fuction returns multiplicative persistence of the given  number'''\n",
    "    MDR(g)\n",
    "    return c#returns c value which is a global variable\n",
    "while True:\n",
    "    try:\n",
    "        z=input(\"Select Your options\\n1.Multiplicative digital root\\n2.Multiplicative persistence\\n\")\n",
    "        if z=='q' or z=='Q':\n",
    "                break\n",
    "        elif z=='1':\n",
    "            print(MDR(int(input(\"Enter any integer: \"))))\n",
    "        elif z=='2':\n",
    "            print(MPersistence(int(input(\"Enter any integer: \"))))\n",
    "        else:\n",
    "            print(\"Select the correct option, \\nTry Again!\")\n",
    "    except:\n",
    "        print(\"Enter a correct value!\")"
   ]
  },
  {
   "cell_type": "markdown",
   "metadata": {},
   "source": [
    "# 9. Write a function sumPdivisors() that finds the sum of proper divisors of a number. Proper divisors of a number are those numbers by which the number is divisible, except the number itself. For example proper divisors of 36 are 1, 2, 3, 4, 6, 9, 12, 18"
   ]
  },
  {
   "cell_type": "code",
   "execution_count": 12,
   "metadata": {},
   "outputs": [
    {
     "data": {
      "text/plain": [
       "55"
      ]
     },
     "execution_count": 12,
     "metadata": {},
     "output_type": "execute_result"
    }
   ],
   "source": [
    "\n",
    "def sumPdivisors(n):\n",
    "    '''This function returns the sum of proper divisors of the given number'''\n",
    "    r=0#result is stored in r and it is initialized with 0 since it is additive identity\n",
    "    i=1\n",
    "    while(i<n):#loop is iterated till n-1\n",
    "        if n%i==0:#checks whether i is a proper divisor of n\n",
    "            r=r+i#if above condition is true then i to added to r\n",
    "        i=i+1    \n",
    "    return r#finally r is returned\n",
    "sumPdivisors(36)"
   ]
  },
  {
   "cell_type": "markdown",
   "metadata": {},
   "source": [
    "# 10. A number is called perfect if the sum of proper divisors of that number is equal to the number. For example 28 is perfect number, since 1+2+4+7+14=28. Write a program to print all the perfect numbers in a given range"
   ]
  },
  {
   "cell_type": "code",
   "execution_count": 13,
   "metadata": {},
   "outputs": [
    {
     "name": "stdout",
     "output_type": "stream",
     "text": [
      "Enter range starting: 1\n",
      "Enter range Ending: 1000\n",
      "[6, 28, 496]\n",
      "Enter range starting: q\n"
     ]
    }
   ],
   "source": [
    "while True:\n",
    "    z1=input(\"Enter range starting: \")\n",
    "    if z1=='q' or z1=='Q':\n",
    "        break\n",
    "    z=input(\"Enter range Ending: \")    \n",
    "    if int(z1)>int(z):\n",
    "        print(\"stating integer should be less than ending integer\")\n",
    "        continue\n",
    "    else:\n",
    "        lst=[i for i in range(int(z1),int(z)+1)]\n",
    "        #filter is used to make a list of perfect numbers using lambda function \n",
    "        temp=list(filter(lambda x:(x==sumPdivisors(x)),lst))\n",
    "        if len(temp)<1:\n",
    "            print(\"No Perfect number in the given range\")\n",
    "        else:\n",
    "            print(temp)"
   ]
  },
  {
   "cell_type": "markdown",
   "metadata": {},
   "source": [
    "# 11. Two different numbers are called amicable numbers if the sum of the proper divisors of each is equal to the other number. For example 220 and 284 are amicable numbers.Sum of proper divisors of 220 = 1+2+4+5+10+11+20+22+44+55+110 = 284 Sum of proper divisors of 284 = 1+2+4+71+142 = 220 Write a function to print pairs of amicable numbers in a range"
   ]
  },
  {
   "cell_type": "code",
   "execution_count": 18,
   "metadata": {},
   "outputs": [
    {
     "name": "stdout",
     "output_type": "stream",
     "text": [
      "Enter range stating: 1\n",
      "Enter range Ending: 1000\n",
      "[(220, 284)]\n",
      "Enter range stating: 1\n",
      "Enter range Ending: 10000\n",
      "[(220, 284), (1184, 1210), (2620, 2924), (5020, 5564), (6232, 6368)]\n",
      "Enter range stating: q\n"
     ]
    }
   ],
   "source": [
    "while True:\n",
    "    try:\n",
    "        lst=[]\n",
    "        lst1=[]\n",
    "        z=input(\"Enter range stating: \")\n",
    "        if z=='q' or z=='Q':\n",
    "            break\n",
    "        y=input(\"Enter range Ending: \")\n",
    "        if int(z)>int(y):\n",
    "            print(\"starting range should be less than ending range\")\n",
    "            continue\n",
    "        else:\n",
    "            for i in range(int(z),int(y)+1):\n",
    "                #for every integer in the given range we calculate sum of proper divisors and \n",
    "                #check whether the sum of divisors of the result is equal to the given integer \n",
    "                temp=sumPdivisors(i)\n",
    "                if i in lst1:\n",
    "                    continue\n",
    "                if i==sumPdivisors(temp) and i!=temp:\n",
    "                    lst.append((i,temp))\n",
    "                    lst1.append(temp)\n",
    "            print(lst)       \n",
    "    except:\n",
    "        print(\"Enter a valid number!\")        "
   ]
  },
  {
   "cell_type": "markdown",
   "metadata": {},
   "source": [
    "# 12. Write a program which can filter odd numbers in a list by using filter function"
   ]
  },
  {
   "cell_type": "code",
   "execution_count": 19,
   "metadata": {},
   "outputs": [
    {
     "name": "stdout",
     "output_type": "stream",
     "text": [
      "enter range starting: 1\n",
      "enter range ending: 100\n",
      "[1, 3, 5, 7, 9, 11, 13, 15, 17, 19, 21, 23, 25, 27, 29, 31, 33, 35, 37, 39, 41, 43, 45, 47, 49, 51, 53, 55, 57, 59, 61, 63, 65, 67, 69, 71, 73, 75, 77, 79, 81, 83, 85, 87, 89, 91, 93, 95, 97, 99]\n"
     ]
    }
   ],
   "source": [
    "x=int(input(\"enter range starting: \"))\n",
    "y=int(input(\"enter range ending: \"))\n",
    "l=[i for i in range(x,y+1)]\n",
    "lst=list(filter(lambda a:(a%2!=0),l))\n",
    "print(lst)"
   ]
  },
  {
   "cell_type": "markdown",
   "metadata": {},
   "source": [
    "# 13. Write a program which can map() to make a list whose elements are cube of elements in a given list"
   ]
  },
  {
   "cell_type": "code",
   "execution_count": 20,
   "metadata": {},
   "outputs": [
    {
     "name": "stdout",
     "output_type": "stream",
     "text": [
      "enter range starting: 1\n",
      "enter range ending: 10\n",
      "[1, 8, 27, 64, 125, 216, 343, 512, 729, 1000]\n"
     ]
    }
   ],
   "source": [
    "x=int(input(\"enter range starting: \"))\n",
    "y=int(input(\"enter range ending: \"))\n",
    "l=[i for i in range(x,y+1)]\n",
    "lst=list(map(lambda a:(a**3),l))\n",
    "print(lst)"
   ]
  },
  {
   "cell_type": "markdown",
   "metadata": {},
   "source": [
    "# 14. Write a program which can map() and filter() to make a list whose elements are cube of even number in a given list"
   ]
  },
  {
   "cell_type": "code",
   "execution_count": 21,
   "metadata": {},
   "outputs": [
    {
     "name": "stdout",
     "output_type": "stream",
     "text": [
      "enter range starting: 1\n",
      "enter range ending: 10\n",
      "[8, 64, 216, 512, 1000]\n"
     ]
    }
   ],
   "source": [
    "x=int(input(\"enter range starting: \"))\n",
    "y=int(input(\"enter range ending: \"))\n",
    "l=[i for i in range(x,y+1)]\n",
    "lst=list(map(lambda a:(a**3),list(filter(lambda c:(c%2==0),l))))\n",
    "print(lst)"
   ]
  }
 ],
 "metadata": {
  "kernelspec": {
   "display_name": "Python 3 (ipykernel)",
   "language": "python",
   "name": "python3"
  },
  "language_info": {
   "codemirror_mode": {
    "name": "ipython",
    "version": 3
   },
   "file_extension": ".py",
   "mimetype": "text/x-python",
   "name": "python",
   "nbconvert_exporter": "python",
   "pygments_lexer": "ipython3",
   "version": "3.11.9"
  }
 },
 "nbformat": 4,
 "nbformat_minor": 2
}
