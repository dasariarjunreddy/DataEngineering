{
 "cells": [
  {
   "cell_type": "code",
   "execution_count": 2,
   "id": "55c78d67-f652-47e8-b26b-337e8631579f",
   "metadata": {},
   "outputs": [],
   "source": [
    "\n",
    "import findspark\n",
    "\n",
    "findspark.init(\"c:/spark\")\n",
    "# spark.stop()"
   ]
  },
  {
   "cell_type": "code",
   "execution_count": 3,
   "id": "0420a245-bb6a-4bbf-b2f3-9a46a29ae4e6",
   "metadata": {},
   "outputs": [
    {
     "name": "stdout",
     "output_type": "stream",
     "text": [
      "Spark Running\n"
     ]
    },
    {
     "data": {
      "text/html": [
       "\n",
       "            <div>\n",
       "                <p><b>SparkSession - in-memory</b></p>\n",
       "                \n",
       "        <div>\n",
       "            <p><b>SparkContext</b></p>\n",
       "\n",
       "            <p><a href=\"http://Asha:4040\">Spark UI</a></p>\n",
       "\n",
       "            <dl>\n",
       "              <dt>Version</dt>\n",
       "                <dd><code>v3.4.3</code></dd>\n",
       "              <dt>Master</dt>\n",
       "                <dd><code>local[*]</code></dd>\n",
       "              <dt>AppName</dt>\n",
       "                <dd><code>app_name</code></dd>\n",
       "            </dl>\n",
       "        </div>\n",
       "        \n",
       "            </div>\n",
       "        "
      ],
      "text/plain": [
       "<pyspark.sql.session.SparkSession at 0x17f4f806110>"
      ]
     },
     "execution_count": 3,
     "metadata": {},
     "output_type": "execute_result"
    }
   ],
   "source": [
    "import pyspark\n",
    "from pyspark.sql import SparkSession\n",
    "import os\n",
    "\n",
    "\n",
    "conf = (\n",
    "    pyspark.SparkConf()\n",
    "        .setAppName('app_name')\n",
    "  \t\t#packages\n",
    "        .set('spark.jars.packages', 'org.apache.iceberg:iceberg-spark-runtime-3.3_2.12:1.6.1')\n",
    "  \t\t#SQL Extensions\n",
    "        .set('spark.sql.extensions', 'org.apache.iceberg.spark.extensions.IcebergSparkSessionExtensions')\n",
    "  \t\t#Configuring Catalog\n",
    "        .set('spark.sql.catalog.iceberg', 'org.apache.iceberg.spark.SparkCatalog')\n",
    "        .set('spark.sql.catalog.iceberg.type','hadoop')\n",
    "        .set('spark.sql.catalog.iceberg.warehouse', 'iceberg-warehouse')\n",
    ")\n",
    "\n",
    "## Start Spark Session\n",
    "spark = SparkSession.builder.config(conf=conf).getOrCreate()\n",
    "print(\"Spark Running\")\n",
    "\n",
    "## Run Queries\n",
    "spark.sql(\"CREATE OR REPLACE TABLE iceberg.table1 (name STRING) USING iceberg\")\n",
    "\n",
    "spark\n"
   ]
  },
  {
   "cell_type": "code",
   "execution_count": null,
   "id": "9239b289-8aa3-44e4-898f-f446faa29fdb",
   "metadata": {},
   "outputs": [],
   "source": [
    "# spark.sql('drop table iceberg.table2')"
   ]
  },
  {
   "cell_type": "code",
   "execution_count": 36,
   "id": "15f32579-13b9-4705-9cba-63caf04df5d3",
   "metadata": {},
   "outputs": [
    {
     "name": "stdout",
     "output_type": "stream",
     "text": [
      "+-----------------+\n",
      "|             name|\n",
      "+-----------------+\n",
      "|      Alex Merced|\n",
      "|Dipankar Mazumdar|\n",
      "|      Jason Huges|\n",
      "+-----------------+\n",
      "\n"
     ]
    }
   ],
   "source": [
    "spark.sql(\"INSERT INTO iceberg.table1 VALUES ('Alex Merced'), ('Dipankar Mazumdar'), ('Jason Huges')\")\n",
    "\n",
    "spark.sql(\"SELECT * FROM iceberg.table1\").show()"
   ]
  },
  {
   "cell_type": "code",
   "execution_count": 4,
   "id": "792475ba-e303-4532-8418-ed0701cdcbf0",
   "metadata": {},
   "outputs": [
    {
     "name": "stdout",
     "output_type": "stream",
     "text": [
      "+-------------------------------+---------------+\n",
      "|key                            |value          |\n",
      "+-------------------------------+---------------+\n",
      "|current-snapshot-id            |none           |\n",
      "|format                         |iceberg/parquet|\n",
      "|format-version                 |2              |\n",
      "|write.parquet.compression-codec|zstd           |\n",
      "+-------------------------------+---------------+\n",
      "\n"
     ]
    }
   ],
   "source": [
    "spark.sql(\"SHOW TBLPROPERTIES  iceberg.table1\").show(truncate=False)"
   ]
  },
  {
   "cell_type": "code",
   "execution_count": 38,
   "id": "52384b3d-3825-4c0d-949c-c0c4aa7df675",
   "metadata": {},
   "outputs": [
    {
     "name": "stdout",
     "output_type": "stream",
     "text": [
      "+--------------------+--------------------+-------+\n",
      "|            col_name|           data_type|comment|\n",
      "+--------------------+--------------------+-------+\n",
      "|                name|              string|   null|\n",
      "|                    |                    |       |\n",
      "|  # Metadata Columns|                    |       |\n",
      "|            _spec_id|                 int|       |\n",
      "|          _partition|            struct<>|       |\n",
      "|               _file|              string|       |\n",
      "|                _pos|              bigint|       |\n",
      "|            _deleted|             boolean|       |\n",
      "|                    |                    |       |\n",
      "|# Detailed Table ...|                    |       |\n",
      "|                Name|      iceberg.table1|       |\n",
      "|                Type|             MANAGED|       |\n",
      "|            Location|iceberg-warehouse...|       |\n",
      "|            Provider|             iceberg|       |\n",
      "|               Owner|         TommyShelby|       |\n",
      "|    Table Properties|[current-snapshot...|       |\n",
      "+--------------------+--------------------+-------+\n",
      "\n"
     ]
    }
   ],
   "source": [
    "spark.sql(\"describe formatted  iceberg.table1\").show()"
   ]
  },
  {
   "cell_type": "code",
   "execution_count": 39,
   "id": "583dc53a-04e5-45c8-9183-3c2fdb1e55ce",
   "metadata": {},
   "outputs": [
    {
     "name": "stdout",
     "output_type": "stream",
     "text": [
      "+--------+---------+-------+\n",
      "|col_name|data_type|comment|\n",
      "+--------+---------+-------+\n",
      "|    name|   string|   null|\n",
      "+--------+---------+-------+\n",
      "\n"
     ]
    }
   ],
   "source": [
    "spark.sql(\"describe table iceberg.table1\").show()"
   ]
  },
  {
   "cell_type": "code",
   "execution_count": 40,
   "id": "d333ff42-5705-4a36-b2fb-e77507aaa30a",
   "metadata": {},
   "outputs": [
    {
     "name": "stdout",
     "output_type": "stream",
     "text": [
      "+---+--------------------+----+-------+\n",
      "| id|               movie|year|ranking|\n",
      "+---+--------------------+----+-------+\n",
      "|  2|                   $|1971|    6.4|\n",
      "| 11|   $1000 a Touchdown|1939|    6.7|\n",
      "| 13|$21 a Day Once a ...|1941|     \\N|\n",
      "| 15|                 $30|1999|    7.5|\n",
      "| 17|      $300 y tickets|2002|     \\N|\n",
      "| 21|           $5.15/Hr.|2004|     \\N|\n",
      "| 31|               $pent|2000|    4.3|\n",
      "| 32|     $ucces Part One|1986|     \\N|\n",
      "| 33|             $windle|2002|    5.4|\n",
      "| 34|             & frres|2000|     \\N|\n",
      "| 36|                '15'|2002|    6.8|\n",
      "| 37|'24-25' ne vozvra...|1968|     \\N|\n",
      "| 38|                 '38|1987|    6.7|\n",
      "| 39|                 '42|1951|     \\N|\n",
      "| 41|             '49-'17|1917|    5.8|\n",
      "| 42|'60s Pop Rock Reu...|2004|     \\N|\n",
      "| 44|                 '68|1988|    5.5|\n",
      "| 47|     '88 Dodge Aries|2002|     \\N|\n",
      "| 48| '93 jie tou ba wang|1993|     \\N|\n",
      "| 49|'94 du bi dao zhi...|1994|    5.7|\n",
      "+---+--------------------+----+-------+\n",
      "only showing top 20 rows\n",
      "\n"
     ]
    }
   ],
   "source": [
    "df = spark.read.format('CSV').option('header','true').load('movies_2482024.csv')\n",
    "df.createOrReplaceTempView('temp_movies')\n",
    "df = spark.sql('select * from temp_movies where year > 1000 and id > 0')\n",
    "df.createOrReplaceTempView('temp_movies')\n",
    "df.show()\n",
    "# df.repartition(1).write.format(\"csv\").save('movies_refined')\n",
    "# spark.sql(\"CREATE OR REPLACE TABLE iceberg.movies (id INT, name STRING, year INT, ranking STRING) partitioned by (year) location 'iceberg-warehouse/movies' tblproperties ('table_type'='ICEBERG') \")"
   ]
  },
  {
   "cell_type": "code",
   "execution_count": 41,
   "id": "a56c5cb4-f5e5-43c4-b521-228e9881f552",
   "metadata": {},
   "outputs": [
    {
     "name": "stdout",
     "output_type": "stream",
     "text": [
      "+---+--------------------+----+-------+\n",
      "| id|               movie|year|ranking|\n",
      "+---+--------------------+----+-------+\n",
      "|  2|                   $|1971|    6.4|\n",
      "| 11|   $1000 a Touchdown|1939|    6.7|\n",
      "| 13|$21 a Day Once a ...|1941|     \\N|\n",
      "| 15|                 $30|1999|    7.5|\n",
      "| 17|      $300 y tickets|2002|     \\N|\n",
      "| 21|           $5.15/Hr.|2004|     \\N|\n",
      "| 31|               $pent|2000|    4.3|\n",
      "| 32|     $ucces Part One|1986|     \\N|\n",
      "| 33|             $windle|2002|    5.4|\n",
      "| 34|             & frres|2000|     \\N|\n",
      "| 36|                '15'|2002|    6.8|\n",
      "| 37|'24-25' ne vozvra...|1968|     \\N|\n",
      "| 38|                 '38|1987|    6.7|\n",
      "| 39|                 '42|1951|     \\N|\n",
      "| 41|             '49-'17|1917|    5.8|\n",
      "| 42|'60s Pop Rock Reu...|2004|     \\N|\n",
      "| 44|                 '68|1988|    5.5|\n",
      "| 47|     '88 Dodge Aries|2002|     \\N|\n",
      "| 48| '93 jie tou ba wang|1993|     \\N|\n",
      "| 49|'94 du bi dao zhi...|1994|    5.7|\n",
      "+---+--------------------+----+-------+\n",
      "only showing top 20 rows\n",
      "\n",
      "+--------+\n",
      "|count(1)|\n",
      "+--------+\n",
      "|  302134|\n",
      "+--------+\n",
      "\n"
     ]
    }
   ],
   "source": [
    "spark.sql('select * from temp_movies ').show()\n",
    "spark.sql('select count(*) from temp_movies').show()"
   ]
  },
  {
   "cell_type": "code",
   "execution_count": 42,
   "id": "2dfa0e53-0d8e-422a-8d16-43a4451d225e",
   "metadata": {},
   "outputs": [
    {
     "name": "stdout",
     "output_type": "stream",
     "text": [
      "+---+------------------+-----------+\n",
      "| id|        first_name|  last_name|\n",
      "+---+------------------+-----------+\n",
      "|  1|              Todd|          1|\n",
      "|  2|               Les|12 Poissons|\n",
      "|  3|           Lejaren|   a'Hiller|\n",
      "|  4|              Nian|          A|\n",
      "|  5|          Khairiya|  A-Mansour|\n",
      "|  6|           Ricardo|   A. Solla|\n",
      "|  8|Kodanda Rami Reddy|         A.|\n",
      "|  9|     Nageswara Rao|         A.|\n",
      "| 10|              Yuri|         A.|\n",
      "| 11|             Swamy|     A.S.A.|\n",
      "| 12|           Per (I)|      Aabel|\n",
      "| 13|            Eivind|      Aaeng|\n",
      "| 14|              Mang|        Aag|\n",
      "| 15|           Sigfred|    Aagaard|\n",
      "| 16|           Michael|    Aaglund|\n",
      "| 17|            Safdar|        Aah|\n",
      "| 18|            Astrid|      Aakra|\n",
      "| 19|      Mohamad Reza|     Aalami|\n",
      "| 20|             Jefri|Aalmuhammed|\n",
      "| 21|         Rostislav|      Aalto|\n",
      "+---+------------------+-----------+\n",
      "only showing top 20 rows\n",
      "\n"
     ]
    }
   ],
   "source": [
    "df = spark.read.format('CSV').option('header','true').load('directors.csv')\n",
    "df.createOrReplaceTempView('temp_directors')\n",
    "df.show()\n",
    "# df.repartition(1).write.format(\"csv\").save('movies_refined')\n",
    "# spark.sql(\"CREATE OR REPLACE TABLE iceberg.movies (id INT, name STRING, year INT, ranking STRING) partitioned by (year) location 'iceberg-warehouse/movies' tblproperties ('table_type'='ICEBERG') \")"
   ]
  },
  {
   "cell_type": "code",
   "execution_count": 43,
   "id": "96066c73-98cd-4213-abe1-4b33625517d8",
   "metadata": {},
   "outputs": [
    {
     "name": "stdout",
     "output_type": "stream",
     "text": [
      "++\n",
      "||\n",
      "++\n",
      "++\n",
      "\n"
     ]
    }
   ],
   "source": [
    "spark.sql('Create TABLE IF NOT EXISTS iceberg.directors(id int, first_name string, last_name string) using ICEBERG TBLPROPERTIES(\"write.format.default\"=\"avro\")')\n",
    "# spark.sql(\"Create TABLE IF NOT EXISTS iceberg.movies using ICEBERG partitioned by (year) AS select CAST(id as decimal(14,0)) as id, movie, CAST(year as decimal(14,0)) as year, ranking from temp_movies\")\n",
    "spark.sql(\"insert overwrite table iceberg.directors select CAST(id as decimal(14,0)) as id, first_name, last_name  from temp_directors\").show()"
   ]
  },
  {
   "cell_type": "code",
   "execution_count": 44,
   "id": "d53407bc-c632-4100-adc7-69a80bb7d715",
   "metadata": {},
   "outputs": [
    {
     "name": "stdout",
     "output_type": "stream",
     "text": [
      "+---+------------------+-----------+\n",
      "| id|        first_name|  last_name|\n",
      "+---+------------------+-----------+\n",
      "|  1|              Todd|          1|\n",
      "|  2|               Les|12 Poissons|\n",
      "|  3|           Lejaren|   a'Hiller|\n",
      "|  4|              Nian|          A|\n",
      "|  5|          Khairiya|  A-Mansour|\n",
      "|  6|           Ricardo|   A. Solla|\n",
      "|  8|Kodanda Rami Reddy|         A.|\n",
      "|  9|     Nageswara Rao|         A.|\n",
      "| 10|              Yuri|         A.|\n",
      "| 11|             Swamy|     A.S.A.|\n",
      "| 12|           Per (I)|      Aabel|\n",
      "| 13|            Eivind|      Aaeng|\n",
      "| 14|              Mang|        Aag|\n",
      "| 15|           Sigfred|    Aagaard|\n",
      "| 16|           Michael|    Aaglund|\n",
      "| 17|            Safdar|        Aah|\n",
      "| 18|            Astrid|      Aakra|\n",
      "| 19|      Mohamad Reza|     Aalami|\n",
      "| 20|             Jefri|Aalmuhammed|\n",
      "| 21|         Rostislav|      Aalto|\n",
      "+---+------------------+-----------+\n",
      "only showing top 20 rows\n",
      "\n"
     ]
    }
   ],
   "source": [
    "spark.sql('select * from iceberg.directors').show()"
   ]
  },
  {
   "cell_type": "code",
   "execution_count": 45,
   "id": "951f2b54-d900-481f-9f44-5fa5b29e4617",
   "metadata": {},
   "outputs": [
    {
     "name": "stdout",
     "output_type": "stream",
     "text": [
      "+----+------+\n",
      "|d_id|  m_id|\n",
      "+----+------+\n",
      "|   1|378879|\n",
      "|   2|281325|\n",
      "|   3| 30621|\n",
      "|   3|304743|\n",
      "|   4| 60570|\n",
      "|   5| 63525|\n",
      "|   6|118137|\n",
      "|   8|  4860|\n",
      "|   8| 18086|\n",
      "|   8| 18458|\n",
      "|   8| 23136|\n",
      "|   8| 36169|\n",
      "|   8| 58625|\n",
      "|   8| 83754|\n",
      "|   8| 90571|\n",
      "|   8| 90573|\n",
      "|   8|131879|\n",
      "|   8|165214|\n",
      "|   8|166374|\n",
      "|   8|175886|\n",
      "+----+------+\n",
      "only showing top 20 rows\n",
      "\n"
     ]
    }
   ],
   "source": [
    "df = spark.read.format('CSV').option('header','true').load('movies_directors.csv')\n",
    "df.createOrReplaceTempView('temp_movies_directors')\n",
    "df.show()"
   ]
  },
  {
   "cell_type": "code",
   "execution_count": 46,
   "id": "6a310c65-3edc-471b-beea-d59a23e6eec7",
   "metadata": {},
   "outputs": [
    {
     "name": "stdout",
     "output_type": "stream",
     "text": [
      "++\n",
      "||\n",
      "++\n",
      "++\n",
      "\n"
     ]
    }
   ],
   "source": [
    "spark.sql('Create TABLE IF NOT EXISTS iceberg.movies_directors(d_id int, m_id int) using ICEBERG')\n",
    "# spark.sql(\"Create TABLE IF NOT EXISTS iceberg.movies using ICEBERG partitioned by (year) AS select CAST(id as decimal(14,0)) as id, movie, CAST(year as decimal(14,0)) as year, ranking from temp_movies\")\n",
    "spark.sql(\"insert overwrite table iceberg.movies_directors select CAST(d_id as decimal(14,0)) as d_id, CAST(m_id as decimal(14,0)) as m_id  from temp_movies_directors\").show()"
   ]
  },
  {
   "cell_type": "code",
   "execution_count": 47,
   "id": "c7cd2b51-5a9c-411f-8b62-90faecc2c73a",
   "metadata": {},
   "outputs": [
    {
     "name": "stdout",
     "output_type": "stream",
     "text": [
      "+----+------+\n",
      "|d_id|  m_id|\n",
      "+----+------+\n",
      "|   1|378879|\n",
      "|   2|281325|\n",
      "|   3| 30621|\n",
      "|   3|304743|\n",
      "|   4| 60570|\n",
      "|   5| 63525|\n",
      "|   6|118137|\n",
      "|   8|  4860|\n",
      "|   8| 18086|\n",
      "|   8| 18458|\n",
      "|   8| 23136|\n",
      "|   8| 36169|\n",
      "|   8| 58625|\n",
      "|   8| 83754|\n",
      "|   8| 90571|\n",
      "|   8| 90573|\n",
      "|   8|131879|\n",
      "|   8|165214|\n",
      "|   8|166374|\n",
      "|   8|175886|\n",
      "+----+------+\n",
      "only showing top 20 rows\n",
      "\n"
     ]
    }
   ],
   "source": [
    "spark.sql('select * from iceberg.movies_directors').show()"
   ]
  },
  {
   "cell_type": "code",
   "execution_count": 48,
   "id": "7b69530c-9d1f-4c14-90b8-334913b1de88",
   "metadata": {},
   "outputs": [
    {
     "data": {
      "text/plain": [
       "DataFrame[]"
      ]
     },
     "execution_count": 48,
     "metadata": {},
     "output_type": "execute_result"
    }
   ],
   "source": [
    "spark.sql('Create TABLE IF NOT EXISTS iceberg.movies(id int, movie string, year int, ranking string) using ICEBERG PARTITIONED BY (year)')\n"
   ]
  },
  {
   "cell_type": "code",
   "execution_count": 49,
   "id": "96cec96b-01ea-4879-95ef-a3e481a88c89",
   "metadata": {},
   "outputs": [
    {
     "name": "stdout",
     "output_type": "stream",
     "text": [
      "++\n",
      "||\n",
      "++\n",
      "++\n",
      "\n"
     ]
    }
   ],
   "source": [
    "# spark.sql(\"Create TABLE IF NOT EXISTS iceberg.movies using ICEBERG partitioned by (year) AS select CAST(id as decimal(14,0)) as id, movie, CAST(year as decimal(14,0)) as year, ranking from temp_movies\")\n",
    "spark.sql(\"insert overwrite table iceberg.movies select CAST(id as decimal(14,0)) as id, movie, CAST(year as decimal(14,0)) as year, ranking from temp_movies\").show()"
   ]
  },
  {
   "cell_type": "code",
   "execution_count": 50,
   "id": "fe1dc368-f355-4054-9cfd-3c2ac0808789",
   "metadata": {},
   "outputs": [
    {
     "name": "stdout",
     "output_type": "stream",
     "text": [
      "+--------------------+----+-------+-----+-------------------+\n",
      "|               movie|year|ranking| d_id|      director_name|\n",
      "+--------------------+----+-------+-----+-------------------+\n",
      "|'Nendo no omen' y...|1961|     \\N|56839|     Nobuo Nakagawa|\n",
      "|1. maj 1961 godin...|1961|     \\N|49421|    Pjer Majhrovski|\n",
      "|1. maj 1961 godin...|1961|     \\N|43018|   Hajrudin Krvavac|\n",
      "|        10 juin 1944|1961|     \\N|15163|      Maurice Cohen|\n",
      "|     10000 malchikov|1961|     \\N|59144|           I. Okada|\n",
      "|     10000 malchikov|1961|     \\N|10637|      Boris Buneyev|\n",
      "|121 rue Blanche  ...|1961|     \\N| 1029|   Quinto Albicocco|\n",
      "|1964 New York Wor...|1961|     \\N|11736|John (XVI) Campbell|\n",
      "|               2+2=3|1961|     \\N|48386|      André Lusicic|\n",
      "|     5inui haebyeong|1961|     \\N|41083|     Ki-duk (I) Kim|\n",
      "|660124: The Story...|1961|     \\N|18724|     Brian De Palma|\n",
      "|  9 dnej odnogo goda|1961|    7.3|67789|       Mikhail Romm|\n",
      "|      A byahme mladi|1961|     \\N|88258|  Binka Zhelyazkova|\n",
      "|A cavallo della t...|1961|    5.7|15523|    Luigi Comencini|\n",
      "|A fost prietenul meu|1961|     \\N| 7635|      Andrei Blaier|\n",
      "|A las cinco de la...|1961|     \\N| 4665|Juan Antonio Bardem|\n",
      "|      A porte chiuse|1961|     \\N|66818|          Dino Risi|\n",
      "| A yesli eto lyubov?|1961|    7.1|64872|       Yuli Raizman|\n",
      "|Aadhi Kalas Mag P...|1961|     \\N|60638|      Raja Paranjpe|\n",
      "|      Aas Ka Panchhi|1961|     \\N|43268|    Mohan (I) Kumar|\n",
      "+--------------------+----+-------+-----+-------------------+\n",
      "only showing top 20 rows\n",
      "\n"
     ]
    }
   ],
   "source": [
    "out_df = spark.sql('select a.*, concat(d.first_name,\" \",d.last_name) as director_name from (select m.movie,m.year,m.ranking,d_id from iceberg.movies m join iceberg.movies_directors l on m.id=l.m_id where year>1950 and year<2024) a join iceberg.directors d on a.d_id=d.id ')\n",
    "out_df.show()"
   ]
  },
  {
   "cell_type": "code",
   "execution_count": null,
   "id": "e46bb281-fdf8-48bf-a9e5-adf7a7f176e0",
   "metadata": {},
   "outputs": [],
   "source": [
    "# out_df.write.format(\"csv\").save('movies_refined')"
   ]
  },
  {
   "cell_type": "code",
   "execution_count": 51,
   "id": "0be1f7e5-5b2e-4ffc-b479-93a411b75367",
   "metadata": {},
   "outputs": [
    {
     "name": "stdout",
     "output_type": "stream",
     "text": [
      "-RECORD 0------------------------------------------------------------------------------------------------------------------------------------------------------------------------------\n",
      " content            | 0                                                                                                                                                                \n",
      " file_path          | iceberg-warehouse/movies/data/year=1896/00000-25-58ac8b5d-3200-4b4b-be30-e9bdf2f12f57-0-00003.parquet                                                            \n",
      " file_format        | PARQUET                                                                                                                                                          \n",
      " spec_id            | 0                                                                                                                                                                \n",
      " partition          | {1896}                                                                                                                                                           \n",
      " record_count       | 264                                                                                                                                                              \n",
      " file_size_in_bytes | 6148                                                                                                                                                             \n",
      " column_sizes       | {1 -> 868, 2 -> 3906, 3 -> 75, 4 -> 254}                                                                                                                         \n",
      " value_counts       | {1 -> 264, 2 -> 264, 3 -> 264, 4 -> 264}                                                                                                                         \n",
      " null_value_counts  | {1 -> 0, 2 -> 0, 3 -> 0, 4 -> 0}                                                                                                                                 \n",
      " nan_value_counts   | {}                                                                                                                                                               \n",
      " lower_bounds       | {1 -> �1\u0000\u0000, 2 -> Alumnos de Chapu, 3 -> h\\a\u0000\u0000, 4 -> 2.6}                                                                                                         \n",
      " upper_bounds       | {1 -> ��\u0005\u0000, 2 -> You Dirty Boy, 3 -> h\\a\u0000\u0000, 4 -> \\N}                                                                                                             \n",
      " key_metadata       | null                                                                                                                                                             \n",
      " split_offsets      | [4]                                                                                                                                                              \n",
      " equality_ids       | null                                                                                                                                                             \n",
      " sort_order_id      | 0                                                                                                                                                                \n",
      " readable_metrics   | {{868, 264, 0, null, 12718, 372153}, {3906, 264, 0, null, Alumnos de Chapu, You Dirty Boy}, {254, 264, 0, null, 2.6, \\N}, {75, 264, 0, null, 1896, 1896}}        \n",
      "-RECORD 1------------------------------------------------------------------------------------------------------------------------------------------------------------------------------\n",
      " content            | 0                                                                                                                                                                \n",
      " file_path          | iceberg-warehouse/movies/data/year=1961/00000-25-58ac8b5d-3200-4b4b-be30-e9bdf2f12f57-0-00019.parquet                                                            \n",
      " file_format        | PARQUET                                                                                                                                                          \n",
      " spec_id            | 0                                                                                                                                                                \n",
      " partition          | {1961}                                                                                                                                                           \n",
      " record_count       | 2493                                                                                                                                                             \n",
      " file_size_in_bytes | 37016                                                                                                                                                            \n",
      " column_sizes       | {1 -> 7511, 2 -> 27449, 3 -> 74, 4 -> 985}                                                                                                                       \n",
      " value_counts       | {1 -> 2493, 2 -> 2493, 3 -> 2493, 4 -> 2493}                                                                                                                     \n",
      " null_value_counts  | {1 -> 0, 2 -> 0, 3 -> 0, 4 -> 0}                                                                                                                                 \n",
      " nan_value_counts   | {}                                                                                                                                                               \n",
      " lower_bounds       | {1 -> �\u0000\u0000\u0000, 2 ->  apkin gelin, 3 -> �\\a\u0000\u0000, 4 -> 1}                                                                                                               \n",
      " upper_bounds       | {1 -> PJ\u0006\u0000, 2 -> zmc kizin kaderi, 3 -> �\\a\u0000\u0000, 4 -> \\N}                                                                                                          \n",
      " key_metadata       | null                                                                                                                                                             \n",
      " split_offsets      | [4]                                                                                                                                                              \n",
      " equality_ids       | null                                                                                                                                                             \n",
      " sort_order_id      | 0                                                                                                                                                                \n",
      " readable_metrics   | {{7511, 2493, 0, null, 191, 412240}, {27449, 2493, 0, null,  apkin gelin, zmc kizin kaderi}, {985, 2493, 0, null, 1, \\N}, {74, 2493, 0, null, 1961, 1961}}       \n",
      "-RECORD 2------------------------------------------------------------------------------------------------------------------------------------------------------------------------------\n",
      " content            | 0                                                                                                                                                                \n",
      " file_path          | iceberg-warehouse/movies/data/year=1959/00000-25-58ac8b5d-3200-4b4b-be30-e9bdf2f12f57-0-00001.parquet                                                            \n",
      " file_format        | PARQUET                                                                                                                                                          \n",
      " spec_id            | 0                                                                                                                                                                \n",
      " partition          | {1959}                                                                                                                                                           \n",
      " record_count       | 2308                                                                                                                                                             \n",
      " file_size_in_bytes | 34906                                                                                                                                                            \n",
      " column_sizes       | {1 -> 6973, 2 -> 25674, 3 -> 75, 4 -> 1183}                                                                                                                      \n",
      " value_counts       | {1 -> 2308, 2 -> 2308, 3 -> 2308, 4 -> 2308}                                                                                                                     \n",
      " null_value_counts  | {1 -> 0, 2 -> 0, 3 -> 0, 4 -> 0}                                                                                                                                 \n",
      " nan_value_counts   | {}                                                                                                                                                               \n",
      " lower_bounds       | {1 -> K\u0001\u0000\u0000, 2 ->  double tour, 3 -> �\\a\u0000\u0000, 4 -> 1}                                                                                                               \n",
      " upper_bounds       | {1 -> tI\u0006\u0000, 2 -> sa-Nisse jubiles, 3 -> �\\a\u0000\u0000, 4 -> \\N}                                                                                                          \n",
      " key_metadata       | null                                                                                                                                                             \n",
      " split_offsets      | [4]                                                                                                                                                              \n",
      " equality_ids       | null                                                                                                                                                             \n",
      " sort_order_id      | 0                                                                                                                                                                \n",
      " readable_metrics   | {{6973, 2308, 0, null, 331, 412020}, {25674, 2308, 0, null,  double tour, sa-Nisse jubiles}, {1183, 2308, 0, null, 1, \\N}, {75, 2308, 0, null, 1959, 1959}}      \n",
      "-RECORD 3------------------------------------------------------------------------------------------------------------------------------------------------------------------------------\n",
      " content            | 0                                                                                                                                                                \n",
      " file_path          | iceberg-warehouse/movies/data/year=1899/00000-25-58ac8b5d-3200-4b4b-be30-e9bdf2f12f57-0-00023.parquet                                                            \n",
      " file_format        | PARQUET                                                                                                                                                          \n",
      " spec_id            | 0                                                                                                                                                                \n",
      " partition          | {1899}                                                                                                                                                           \n",
      " record_count       | 573                                                                                                                                                              \n",
      " file_size_in_bytes | 11707                                                                                                                                                            \n",
      " column_sizes       | {1 -> 1761, 2 -> 8595, 3 -> 74, 4 -> 281}                                                                                                                        \n",
      " value_counts       | {1 -> 573, 2 -> 573, 3 -> 573, 4 -> 573}                                                                                                                         \n",
      " null_value_counts  | {1 -> 0, 2 -> 0, 3 -> 0, 4 -> 0}                                                                                                                                 \n",
      " nan_value_counts   | {}                                                                                                                                                               \n",
      " lower_bounds       | {1 -> N\u0000\u0000\u0000, 2 -> 'Columbia', 3 -> k\\a\u0000\u0000, 4 -> 1.1}                                                                                                               \n",
      " upper_bounds       | {1 -> ��\u0005\u0000, 2 -> vocation spirite, 3 -> k\\a\u0000\u0000, 4 -> \\N}                                                                                                          \n",
      " key_metadata       | null                                                                                                                                                             \n",
      " split_offsets      | [4]                                                                                                                                                              \n",
      " equality_ids       | null                                                                                                                                                             \n",
      " sort_order_id      | 0                                                                                                                                                                \n",
      " readable_metrics   | {{1761, 573, 0, null, 78, 378013}, {8595, 573, 0, null, 'Columbia', vocation spirite}, {281, 573, 0, null, 1.1, \\N}, {74, 573, 0, null, 1899, 1899}}             \n",
      "-RECORD 4------------------------------------------------------------------------------------------------------------------------------------------------------------------------------\n",
      " content            | 0                                                                                                                                                                \n",
      " file_path          | iceberg-warehouse/movies/data/year=1968/00000-25-58ac8b5d-3200-4b4b-be30-e9bdf2f12f57-0-00032.parquet                                                            \n",
      " file_format        | PARQUET                                                                                                                                                          \n",
      " spec_id            | 0                                                                                                                                                                \n",
      " partition          | {1968}                                                                                                                                                           \n",
      " record_count       | 3785                                                                                                                                                             \n",
      " file_size_in_bytes | 55207                                                                                                                                                            \n",
      " column_sizes       | {1 -> 11344, 2 -> 41413, 3 -> 75, 4 -> 1343}                                                                                                                     \n",
      " value_counts       | {1 -> 3785, 2 -> 3785, 3 -> 3785, 4 -> 3785}                                                                                                                     \n",
      " null_value_counts  | {1 -> 0, 2 -> 0, 3 -> 0, 4 -> 0}                                                                                                                                 \n",
      " nan_value_counts   | {}                                                                                                                                                               \n",
      " lower_bounds       | {1 -> %\u0000\u0000\u0000, 2 ->  propos d'un col, 3 -> �\\a\u0000\u0000, 4 -> 1}                                                                                                           \n",
      " upper_bounds       | {1 -> �J\u0006\u0000, 2 -> ventail de Svilm, 3 -> �\\a\u0000\u0000, 4 -> \\N}                                                                                                          \n",
      " key_metadata       | null                                                                                                                                                             \n",
      " split_offsets      | [4]                                                                                                                                                              \n",
      " equality_ids       | null                                                                                                                                                             \n",
      " sort_order_id      | 0                                                                                                                                                                \n",
      " readable_metrics   | {{11344, 3785, 0, null, 37, 412308}, {41413, 3785, 0, null,  propos d'un col, ventail de Svilm}, {1343, 3785, 0, null, 1, \\N}, {75, 3785, 0, null, 1968, 1968}}  \n",
      "-RECORD 5------------------------------------------------------------------------------------------------------------------------------------------------------------------------------\n",
      " content            | 0                                                                                                                                                                \n",
      " file_path          | iceberg-warehouse/movies/data/year=1902/00000-25-58ac8b5d-3200-4b4b-be30-e9bdf2f12f57-0-00024.parquet                                                            \n",
      " file_format        | PARQUET                                                                                                                                                          \n",
      " spec_id            | 0                                                                                                                                                                \n",
      " partition          | {1902}                                                                                                                                                           \n",
      " record_count       | 487                                                                                                                                                              \n",
      " file_size_in_bytes | 10169                                                                                                                                                            \n",
      " column_sizes       | {1 -> 1506, 2 -> 7277, 3 -> 75, 4 -> 161}                                                                                                                        \n",
      " value_counts       | {1 -> 487, 2 -> 487, 3 -> 487, 4 -> 487}                                                                                                                         \n",
      " null_value_counts  | {1 -> 0, 2 -> 0, 3 -> 0, 4 -> 0}                                                                                                                                 \n",
      " nan_value_counts   | {}                                                                                                                                                               \n",
      " lower_bounds       | {1 -> a\u0000\u0000\u0000, 2 -> 'Deutschland' Le, 3 -> n\\a\u0000\u0000, 4 -> 1902}                                                                                                        \n",
      " upper_bounds       | {1 ->  �\u0005\u0000, 2 -> ruption volcanir, 3 -> n\\a\u0000\u0000, 4 -> \\N}                                                                                                          \n",
      " key_metadata       | null                                                                                                                                                             \n",
      " split_offsets      | [4]                                                                                                                                                              \n",
      " equality_ids       | null                                                                                                                                                             \n",
      " sort_order_id      | 0                                                                                                                                                                \n",
      " readable_metrics   | {{1506, 487, 0, null, 97, 377888}, {7277, 487, 0, null, 'Deutschland' Le, ruption volcanir}, {161, 487, 0, null, 1902, \\N}, {75, 487, 0, null, 1902, 1902}}      \n",
      "-RECORD 6------------------------------------------------------------------------------------------------------------------------------------------------------------------------------\n",
      " content            | 0                                                                                                                                                                \n",
      " file_path          | iceberg-warehouse/movies/data/year=1903/00000-25-58ac8b5d-3200-4b4b-be30-e9bdf2f12f57-0-00004.parquet                                                            \n",
      " file_format        | PARQUET                                                                                                                                                          \n",
      " spec_id            | 0                                                                                                                                                                \n",
      " partition          | {1903}                                                                                                                                                           \n",
      " record_count       | 578                                                                                                                                                              \n",
      " file_size_in_bytes | 10706                                                                                                                                                            \n",
      " column_sizes       | {1 -> 1793, 2 -> 7518, 3 -> 75, 4 -> 225}                                                                                                                        \n",
      " value_counts       | {1 -> 578, 2 -> 578, 3 -> 578, 4 -> 578}                                                                                                                         \n",
      " null_value_counts  | {1 -> 0, 2 -> 0, 3 -> 0, 4 -> 0}                                                                                                                                 \n",
      " nan_value_counts   | {}                                                                                                                                                               \n",
      " lower_bounds       | {1 -> �\u0003\u0000\u0000, 2 -> 10th Pennsylvani, 3 -> o\\a\u0000\u0000, 4 -> 2.6}                                                                                                         \n",
      " upper_bounds       | {1 -> ��\u0005\u0000, 2 -> Young America Cf, 3 -> o\\a\u0000\u0000, 4 -> \\N}                                                                                                          \n",
      " key_metadata       | null                                                                                                                                                             \n",
      " split_offsets      | [4]                                                                                                                                                              \n",
      " equality_ids       | null                                                                                                                                                             \n",
      " sort_order_id      | 0                                                                                                                                                                \n",
      " readable_metrics   | {{1793, 578, 0, null, 903, 372414}, {7518, 578, 0, null, 10th Pennsylvani, Young America Cf}, {225, 578, 0, null, 2.6, \\N}, {75, 578, 0, null, 1903, 1903}}      \n",
      "-RECORD 7------------------------------------------------------------------------------------------------------------------------------------------------------------------------------\n",
      " content            | 0                                                                                                                                                                \n",
      " file_path          | iceberg-warehouse/movies/data/year=1908/00000-25-58ac8b5d-3200-4b4b-be30-e9bdf2f12f57-0-00017.parquet                                                            \n",
      " file_format        | PARQUET                                                                                                                                                          \n",
      " spec_id            | 0                                                                                                                                                                \n",
      " partition          | {1908}                                                                                                                                                           \n",
      " record_count       | 255                                                                                                                                                              \n",
      " file_size_in_bytes | 5642                                                                                                                                                             \n",
      " column_sizes       | {1 -> 846, 2 -> 3576, 3 -> 75, 4 -> 182}                                                                                                                         \n",
      " value_counts       | {1 -> 255, 2 -> 255, 3 -> 255, 4 -> 255}                                                                                                                         \n",
      " null_value_counts  | {1 -> 0, 2 -> 0, 3 -> 0, 4 -> 0}                                                                                                                                 \n",
      " nan_value_counts   | {}                                                                                                                                                               \n",
      " lower_bounds       | {1 -> �\u0000\u0000\u0000, 2 ->  l'cu d'or, 3 -> t\\a\u0000\u0000, 4 -> 3.4}                                                                                                               \n",
      " upper_bounds       | {1 -> ��\u0005\u0000, 2 -> mes corses, 3 -> t\\a\u0000\u0000, 4 -> \\N}                                                                                                                \n",
      " key_metadata       | null                                                                                                                                                             \n",
      " split_offsets      | [4]                                                                                                                                                              \n",
      " equality_ids       | null                                                                                                                                                             \n",
      " sort_order_id      | 0                                                                                                                                                                \n",
      " readable_metrics   | {{846, 255, 0, null, 202, 377271}, {3576, 255, 0, null,  l'cu d'or, mes corses}, {182, 255, 0, null, 3.4, \\N}, {75, 255, 0, null, 1908, 1908}}                   \n",
      "-RECORD 8------------------------------------------------------------------------------------------------------------------------------------------------------------------------------\n",
      " content            | 0                                                                                                                                                                \n",
      " file_path          | iceberg-warehouse/movies/data/year=1977/00000-25-58ac8b5d-3200-4b4b-be30-e9bdf2f12f57-0-00006.parquet                                                            \n",
      " file_format        | PARQUET                                                                                                                                                          \n",
      " spec_id            | 0                                                                                                                                                                \n",
      " partition          | {1977}                                                                                                                                                           \n",
      " record_count       | 3237                                                                                                                                                             \n",
      " file_size_in_bytes | 48552                                                                                                                                                            \n",
      " column_sizes       | {1 -> 9751, 2 -> 36374, 3 -> 75, 4 -> 1338}                                                                                                                      \n",
      " value_counts       | {1 -> 3237, 2 -> 3237, 3 -> 3237, 4 -> 3237}                                                                                                                     \n",
      " null_value_counts  | {1 -> 0, 2 -> 0, 3 -> 0, 4 -> 0}                                                                                                                                 \n",
      " nan_value_counts   | {}                                                                                                                                                               \n",
      " lower_bounds       | {1 -> p\u0001\u0000\u0000, 2 ->  Sombra dos Lara, 3 -> �\\a\u0000\u0000, 4 -> 1}                                                                                                           \n",
      " upper_bounds       | {1 -> aJ\u0006\u0000, 2 -> zgrlgn bedeli, 3 -> �\\a\u0000\u0000, 4 -> \\N}                                                                                                             \n",
      " key_metadata       | null                                                                                                                                                             \n",
      " split_offsets      | [4]                                                                                                                                                              \n",
      " equality_ids       | null                                                                                                                                                             \n",
      " sort_order_id      | 0                                                                                                                                                                \n",
      " readable_metrics   | {{9751, 3237, 0, null, 368, 412257}, {36374, 3237, 0, null,  Sombra dos Lara, zgrlgn bedeli}, {1338, 3237, 0, null, 1, \\N}, {75, 3237, 0, null, 1977, 1977}}     \n",
      "-RECORD 9------------------------------------------------------------------------------------------------------------------------------------------------------------------------------\n",
      " content            | 0                                                                                                                                                                \n",
      " file_path          | iceberg-warehouse/movies/data/year=1974/00000-25-58ac8b5d-3200-4b4b-be30-e9bdf2f12f57-0-00011.parquet                                                            \n",
      " file_format        | PARQUET                                                                                                                                                          \n",
      " spec_id            | 0                                                                                                                                                                \n",
      " partition          | {1974}                                                                                                                                                           \n",
      " record_count       | 3209                                                                                                                                                             \n",
      " file_size_in_bytes | 48361                                                                                                                                                            \n",
      " column_sizes       | {1 -> 9653, 2 -> 36377, 3 -> 75, 4 -> 1252}                                                                                                                      \n",
      " value_counts       | {1 -> 3209, 2 -> 3209, 3 -> 3209, 4 -> 3209}                                                                                                                     \n",
      " null_value_counts  | {1 -> 0, 2 -> 0, 3 -> 0, 4 -> 0}                                                                                                                                 \n",
      " nan_value_counts   | {}                                                                                                                                                               \n",
      " lower_bounds       | {1 -> �\u0000\u0000\u0000, 2 ->  Gaule, 3 -> �\\a\u0000\u0000, 4 -> 1}                                                                                                                     \n",
      " upper_bounds       | {1 -> sJ\u0006\u0000, 2 -> tranger\\, d'o vj, 3 -> �\\a\u0000\u0000, 4 -> \\N}                                                                                                          \n",
      " key_metadata       | null                                                                                                                                                             \n",
      " split_offsets      | [4]                                                                                                                                                              \n",
      " equality_ids       | null                                                                                                                                                             \n",
      " sort_order_id      | 0                                                                                                                                                                \n",
      " readable_metrics   | {{9653, 3209, 0, null, 206, 412275}, {36377, 3209, 0, null,  Gaule, tranger\\, d'o vj}, {1252, 3209, 0, null, 1, \\N}, {75, 3209, 0, null, 1974, 1974}}            \n",
      "-RECORD 10-----------------------------------------------------------------------------------------------------------------------------------------------------------------------------\n",
      " content            | 0                                                                                                                                                                \n",
      " file_path          | iceberg-warehouse/movies/data/year=1975/00000-25-58ac8b5d-3200-4b4b-be30-e9bdf2f12f57-0-00005.parquet                                                            \n",
      " file_format        | PARQUET                                                                                                                                                          \n",
      " spec_id            | 0                                                                                                                                                                \n",
      " partition          | {1975}                                                                                                                                                           \n",
      " record_count       | 3412                                                                                                                                                             \n",
      " file_size_in_bytes | 50680                                                                                                                                                            \n",
      " column_sizes       | {1 -> 10291, 2 -> 38007, 3 -> 75, 4 -> 1281}                                                                                                                     \n",
      " value_counts       | {1 -> 3412, 2 -> 3412, 3 -> 3412, 4 -> 3412}                                                                                                                     \n",
      " null_value_counts  | {1 -> 0, 2 -> 0, 3 -> 0, 4 -> 0}                                                                                                                                 \n",
      " nan_value_counts   | {}                                                                                                                                                               \n",
      " lower_bounds       | {1 -> �\u0000\u0000\u0000, 2 -> \"Keep on Truckin, 3 -> �\\a\u0000\u0000, 4 -> 1}                                                                                                           \n",
      " upper_bounds       | {1 -> (J\u0006\u0000, 2 -> szi versenyek, 3 -> �\\a\u0000\u0000, 4 -> \\N}                                                                                                             \n",
      " key_metadata       | null                                                                                                                                                             \n",
      " split_offsets      | [4]                                                                                                                                                              \n",
      " equality_ids       | null                                                                                                                                                             \n",
      " sort_order_id      | 0                                                                                                                                                                \n",
      " readable_metrics   | {{10291, 3412, 0, null, 207, 412200}, {38007, 3412, 0, null, \"Keep on Truckin, szi versenyek}, {1281, 3412, 0, null, 1, \\N}, {75, 3412, 0, null, 1975, 1975}}    \n",
      "-RECORD 11-----------------------------------------------------------------------------------------------------------------------------------------------------------------------------\n",
      " content            | 0                                                                                                                                                                \n",
      " file_path          | iceberg-warehouse/movies/data/year=1978/00000-25-58ac8b5d-3200-4b4b-be30-e9bdf2f12f57-0-00016.parquet                                                            \n",
      " file_format        | PARQUET                                                                                                                                                          \n",
      " spec_id            | 0                                                                                                                                                                \n",
      " partition          | {1978}                                                                                                                                                           \n",
      " record_count       | 3393                                                                                                                                                             \n",
      " file_size_in_bytes | 50550                                                                                                                                                            \n",
      " column_sizes       | {1 -> 10201, 2 -> 37878, 3 -> 75, 4 -> 1347}                                                                                                                     \n",
      " value_counts       | {1 -> 3393, 2 -> 3393, 3 -> 3393, 4 -> 3393}                                                                                                                     \n",
      " null_value_counts  | {1 -> 0, 2 -> 0, 3 -> 0, 4 -> 0}                                                                                                                                 \n",
      " nan_value_counts   | {}                                                                                                                                                               \n",
      " lower_bounds       | {1 -> �\u0000\u0000\u0000, 2 ->  chacun son Bori, 3 -> �\\a\u0000\u0000, 4 -> 1.3}                                                                                                         \n",
      " upper_bounds       | {1 -> [J\u0006\u0000, 2 -> ramts, 3 -> �\\a\u0000\u0000, 4 -> \\N}                                                                                                                     \n",
      " key_metadata       | null                                                                                                                                                             \n",
      " split_offsets      | [4]                                                                                                                                                              \n",
      " equality_ids       | null                                                                                                                                                             \n",
      " sort_order_id      | 0                                                                                                                                                                \n",
      " readable_metrics   | {{10201, 3393, 0, null, 200, 412251}, {37878, 3393, 0, null,  chacun son Bori, ramts}, {1347, 3393, 0, null, 1.3, \\N}, {75, 3393, 0, null, 1978, 1978}}          \n",
      "-RECORD 12-----------------------------------------------------------------------------------------------------------------------------------------------------------------------------\n",
      " content            | 0                                                                                                                                                                \n",
      " file_path          | iceberg-warehouse/movies/data/year=1924/00000-25-58ac8b5d-3200-4b4b-be30-e9bdf2f12f57-0-00007.parquet                                                            \n",
      " file_format        | PARQUET                                                                                                                                                          \n",
      " spec_id            | 0                                                                                                                                                                \n",
      " partition          | {1924}                                                                                                                                                           \n",
      " record_count       | 1275                                                                                                                                                             \n",
      " file_size_in_bytes | 18060                                                                                                                                                            \n",
      " column_sizes       | {1 -> 3868, 2 -> 12739, 3 -> 75, 4 -> 362}                                                                                                                       \n",
      " value_counts       | {1 -> 1275, 2 -> 1275, 3 -> 1275, 4 -> 1275}                                                                                                                     \n",
      " null_value_counts  | {1 -> 0, 2 -> 0, 3 -> 0, 4 -> 0}                                                                                                                                 \n",
      " nan_value_counts   | {}                                                                                                                                                               \n",
      " lower_bounds       | {1 -> �\u0000\u0000\u0000, 2 ->  quoi rvent les , 3 -> �\\a\u0000\u0000, 4 -> 2.3}                                                                                                         \n",
      " upper_bounds       | {1 -> 6�\u0005\u0000, 2 -> dets man, 3 -> �\\a\u0000\u0000, 4 -> \\N}                                                                                                                  \n",
      " key_metadata       | null                                                                                                                                                             \n",
      " split_offsets      | [4]                                                                                                                                                              \n",
      " equality_ids       | null                                                                                                                                                             \n",
      " sort_order_id      | 0                                                                                                                                                                \n",
      " readable_metrics   | {{3868, 1275, 0, null, 192, 378166}, {12739, 1275, 0, null,  quoi rvent les , dets man}, {362, 1275, 0, null, 2.3, \\N}, {75, 1275, 0, null, 1924, 1924}}         \n",
      "-RECORD 13-----------------------------------------------------------------------------------------------------------------------------------------------------------------------------\n",
      " content            | 0                                                                                                                                                                \n",
      " file_path          | iceberg-warehouse/movies/data/year=1988/00000-25-58ac8b5d-3200-4b4b-be30-e9bdf2f12f57-0-00029.parquet                                                            \n",
      " file_format        | PARQUET                                                                                                                                                          \n",
      " spec_id            | 0                                                                                                                                                                \n",
      " partition          | {1988}                                                                                                                                                           \n",
      " record_count       | 4759                                                                                                                                                             \n",
      " file_size_in_bytes | 68478                                                                                                                                                            \n",
      " column_sizes       | {1 -> 14290, 2 -> 50821, 3 -> 75, 4 -> 2308}                                                                                                                     \n",
      " value_counts       | {1 -> 4759, 2 -> 4759, 3 -> 4759, 4 -> 4759}                                                                                                                     \n",
      " null_value_counts  | {1 -> 0, 2 -> 0, 3 -> 0, 4 -> 0}                                                                                                                                 \n",
      " nan_value_counts   | {}                                                                                                                                                               \n",
      " lower_bounds       | {1 -> ,\u0000\u0000\u0000, 2 ->  corps perdu, 3 -> �\\a\u0000\u0000, 4 -> 1.3}                                                                                                             \n",
      " upper_bounds       | {1 -> \u0015I\u0006\u0000, 2 -> toile, 3 -> �\\a\u0000\u0000, 4 -> \\N}                                                                                                                     \n",
      " key_metadata       | null                                                                                                                                                             \n",
      " split_offsets      | [4]                                                                                                                                                              \n",
      " equality_ids       | null                                                                                                                                                             \n",
      " sort_order_id      | 0                                                                                                                                                                \n",
      " readable_metrics   | {{14290, 4759, 0, null, 44, 411925}, {50821, 4759, 0, null,  corps perdu, toile}, {2308, 4759, 0, null, 1.3, \\N}, {75, 4759, 0, null, 1988, 1988}}               \n",
      "-RECORD 14-----------------------------------------------------------------------------------------------------------------------------------------------------------------------------\n",
      " content            | 0                                                                                                                                                                \n",
      " file_path          | iceberg-warehouse/movies/data/year=1925/00000-25-58ac8b5d-3200-4b4b-be30-e9bdf2f12f57-0-00018.parquet                                                            \n",
      " file_format        | PARQUET                                                                                                                                                          \n",
      " spec_id            | 0                                                                                                                                                                \n",
      " partition          | {1925}                                                                                                                                                           \n",
      " record_count       | 1380                                                                                                                                                             \n",
      " file_size_in_bytes | 19658                                                                                                                                                            \n",
      " column_sizes       | {1 -> 4173, 2 -> 13941, 3 -> 74, 4 -> 421}                                                                                                                       \n",
      " value_counts       | {1 -> 1380, 2 -> 1380, 3 -> 1380, 4 -> 1380}                                                                                                                     \n",
      " null_value_counts  | {1 -> 0, 2 -> 0, 3 -> 0, 4 -> 0}                                                                                                                                 \n",
      " nan_value_counts   | {}                                                                                                                                                               \n",
      " lower_bounds       | {1 -> \\v\u0001\u0000\u0000, 2 -> 'Tis a Long Lane, 3 -> �\\a\u0000\u0000, 4 -> 2.8}                                                                                                        \n",
      " upper_bounds       | {1 -> ��\u0005\u0000, 2 -> regrund-sthammar, 3 -> �\\a\u0000\u0000, 4 -> \\N}                                                                                                          \n",
      " key_metadata       | null                                                                                                                                                             \n",
      " split_offsets      | [4]                                                                                                                                                              \n",
      " equality_ids       | null                                                                                                                                                             \n",
      " sort_order_id      | 0                                                                                                                                                                \n",
      " readable_metrics   | {{4173, 1380, 0, null, 267, 378270}, {13941, 1380, 0, null, 'Tis a Long Lane, regrund-sthammar}, {421, 1380, 0, null, 2.8, \\N}, {74, 1380, 0, null, 1925, 1925}} \n",
      "-RECORD 15-----------------------------------------------------------------------------------------------------------------------------------------------------------------------------\n",
      " content            | 0                                                                                                                                                                \n",
      " file_path          | iceberg-warehouse/movies/data/year=1922/00000-25-58ac8b5d-3200-4b4b-be30-e9bdf2f12f57-0-00025.parquet                                                            \n",
      " file_format        | PARQUET                                                                                                                                                          \n",
      " spec_id            | 0                                                                                                                                                                \n",
      " partition          | {1922}                                                                                                                                                           \n",
      " record_count       | 1188                                                                                                                                                             \n",
      " file_size_in_bytes | 17074                                                                                                                                                            \n",
      " column_sizes       | {1 -> 3603, 2 -> 12035, 3 -> 75, 4 -> 343}                                                                                                                       \n",
      " value_counts       | {1 -> 1188, 2 -> 1188, 3 -> 1188, 4 -> 1188}                                                                                                                     \n",
      " null_value_counts  | {1 -> 0, 2 -> 0, 3 -> 0, 4 -> 0}                                                                                                                                 \n",
      " nan_value_counts   | {}                                                                                                                                                               \n",
      " lower_bounds       | {1 -> �\u0000\u0000\u0000, 2 ->  l'ombre de Vati, 3 -> �\\a\u0000\u0000, 4 -> 2.3}                                                                                                         \n",
      " upper_bounds       | {1 -> ;�\u0005\u0000, 2 -> fensge inkognitc, 3 -> �\\a\u0000\u0000, 4 -> \\N}                                                                                                          \n",
      " key_metadata       | null                                                                                                                                                             \n",
      " split_offsets      | [4]                                                                                                                                                              \n",
      " equality_ids       | null                                                                                                                                                             \n",
      " sort_order_id      | 0                                                                                                                                                                \n",
      " readable_metrics   | {{3603, 1188, 0, null, 146, 378171}, {12035, 1188, 0, null,  l'ombre de Vati, fensge inkognitc}, {343, 1188, 0, null, 2.3, \\N}, {75, 1188, 0, null, 1922, 1922}} \n",
      "-RECORD 16-----------------------------------------------------------------------------------------------------------------------------------------------------------------------------\n",
      " content            | 0                                                                                                                                                                \n",
      " file_path          | iceberg-warehouse/movies/data/year=1990/00000-25-58ac8b5d-3200-4b4b-be30-e9bdf2f12f57-0-00002.parquet                                                            \n",
      " file_format        | PARQUET                                                                                                                                                          \n",
      " spec_id            | 0                                                                                                                                                                \n",
      " partition          | {1990}                                                                                                                                                           \n",
      " record_count       | 5081                                                                                                                                                             \n",
      " file_size_in_bytes | 73005                                                                                                                                                            \n",
      " column_sizes       | {1 -> 15290, 2 -> 54635, 3 -> 75, 4 -> 2001}                                                                                                                     \n",
      " value_counts       | {1 -> 5081, 2 -> 5081, 3 -> 5081, 4 -> 5081}                                                                                                                     \n",
      " null_value_counts  | {1 -> 0, 2 -> 0, 3 -> 0, 4 -> 0}                                                                                                                                 \n",
      " nan_value_counts   | {}                                                                                                                                                               \n",
      " lower_bounds       | {1 -> (\u0001\u0000\u0000, 2 ->  bas l'ternit, 3 -> �\\a\u0000\u0000, 4 -> 1}                                                                                                              \n",
      " upper_bounds       | {1 -> �I\u0006\u0000, 2 -> zenetek a Holdrl, 3 -> �\\a\u0000\u0000, 4 -> \\N}                                                                                                          \n",
      " key_metadata       | null                                                                                                                                                             \n",
      " split_offsets      | [4]                                                                                                                                                              \n",
      " equality_ids       | null                                                                                                                                                             \n",
      " sort_order_id      | 0                                                                                                                                                                \n",
      " readable_metrics   | {{15290, 5081, 0, null, 296, 412118}, {54635, 5081, 0, null,  bas l'ternit, zenetek a Holdrl}, {2001, 5081, 0, null, 1, \\N}, {75, 5081, 0, null, 1990, 1990}}    \n",
      "-RECORD 17-----------------------------------------------------------------------------------------------------------------------------------------------------------------------------\n",
      " content            | 0                                                                                                                                                                \n",
      " file_path          | iceberg-warehouse/movies/data/year=1927/00000-25-58ac8b5d-3200-4b4b-be30-e9bdf2f12f57-0-00012.parquet                                                            \n",
      " file_format        | PARQUET                                                                                                                                                          \n",
      " spec_id            | 0                                                                                                                                                                \n",
      " partition          | {1927}                                                                                                                                                           \n",
      " record_count       | 1420                                                                                                                                                             \n",
      " file_size_in_bytes | 20269                                                                                                                                                            \n",
      " column_sizes       | {1 -> 4287, 2 -> 14461, 3 -> 75, 4 -> 444}                                                                                                                       \n",
      " value_counts       | {1 -> 1420, 2 -> 1420, 3 -> 1420, 4 -> 1420}                                                                                                                     \n",
      " null_value_counts  | {1 -> 0, 2 -> 0, 3 -> 0, 4 -> 0}                                                                                                                                 \n",
      " nan_value_counts   | {}                                                                                                                                                               \n",
      " lower_bounds       | {1 -> q\u0000\u0000\u0000, 2 ->  l'ombre des tom, 3 -> �\\a\u0000\u0000, 4 -> 1927}                                                                                                        \n",
      " upper_bounds       | {1 -> ��\u0005\u0000, 2 -> tok vra, 3 -> �\\a\u0000\u0000, 4 -> \\N}                                                                                                                   \n",
      " key_metadata       | null                                                                                                                                                             \n",
      " split_offsets      | [4]                                                                                                                                                              \n",
      " equality_ids       | null                                                                                                                                                             \n",
      " sort_order_id      | 0                                                                                                                                                                \n",
      " readable_metrics   | {{4287, 1420, 0, null, 113, 378531}, {14461, 1420, 0, null,  l'ombre des tom, tok vra}, {444, 1420, 0, null, 1927, \\N}, {75, 1420, 0, null, 1927, 1927}}         \n",
      "-RECORD 18-----------------------------------------------------------------------------------------------------------------------------------------------------------------------------\n",
      " content            | 0                                                                                                                                                                \n",
      " file_path          | iceberg-warehouse/movies/data/year=1997/00000-25-58ac8b5d-3200-4b4b-be30-e9bdf2f12f57-0-00030.parquet                                                            \n",
      " file_format        | PARQUET                                                                                                                                                          \n",
      " spec_id            | 0                                                                                                                                                                \n",
      " partition          | {1997}                                                                                                                                                           \n",
      " record_count       | 7496                                                                                                                                                             \n",
      " file_size_in_bytes | 105937                                                                                                                                                           \n",
      " column_sizes       | {1 -> 22443, 2 -> 78874, 3 -> 75, 4 -> 3541}                                                                                                                     \n",
      " value_counts       | {1 -> 7496, 2 -> 7496, 3 -> 7496, 4 -> 7496}                                                                                                                     \n",
      " null_value_counts  | {1 -> 0, 2 -> 0, 3 -> 0, 4 -> 0}                                                                                                                                 \n",
      " nan_value_counts   | {}                                                                                                                                                               \n",
      " lower_bounds       | {1 -> \\a\u0001\u0000\u0000, 2 ->  chacun son tour, 3 -> �\\a\u0000\u0000, 4 -> 1}                                                                                                          \n",
      " upper_bounds       | {1 -> �J\u0006\u0000, 2 -> ystein og meg, 3 -> �\\a\u0000\u0000, 4 -> \\N}                                                                                                             \n",
      " key_metadata       | null                                                                                                                                                             \n",
      " split_offsets      | [4]                                                                                                                                                              \n",
      " equality_ids       | null                                                                                                                                                             \n",
      " sort_order_id      | 0                                                                                                                                                                \n",
      " readable_metrics   | {{22443, 7496, 0, null, 263, 412300}, {78874, 7496, 0, null,  chacun son tour, ystein og meg}, {3541, 7496, 0, null, 1, \\N}, {75, 7496, 0, null, 1997, 1997}}    \n",
      "-RECORD 19-----------------------------------------------------------------------------------------------------------------------------------------------------------------------------\n",
      " content            | 0                                                                                                                                                                \n",
      " file_path          | iceberg-warehouse/movies/data/year=1994/00000-25-58ac8b5d-3200-4b4b-be30-e9bdf2f12f57-0-00031.parquet                                                            \n",
      " file_format        | PARQUET                                                                                                                                                          \n",
      " spec_id            | 0                                                                                                                                                                \n",
      " partition          | {1994}                                                                                                                                                           \n",
      " record_count       | 6302                                                                                                                                                             \n",
      " file_size_in_bytes | 90310                                                                                                                                                            \n",
      " column_sizes       | {1 -> 18900, 2 -> 67452, 3 -> 75, 4 -> 2911}                                                                                                                     \n",
      " value_counts       | {1 -> 6302, 2 -> 6302, 3 -> 6302, 4 -> 6302}                                                                                                                     \n",
      " null_value_counts  | {1 -> 0, 2 -> 0, 3 -> 0, 4 -> 0}                                                                                                                                 \n",
      " nan_value_counts   | {}                                                                                                                                                               \n",
      " lower_bounds       | {1 -> 1\u0000\u0000\u0000, 2 ->  Clara, 3 -> �\\a\u0000\u0000, 4 -> 1}                                                                                                                     \n",
      " upper_bounds       | {1 -> �J\u0006\u0000, 2 -> zlmeler, 3 -> �\\a\u0000\u0000, 4 -> \\N}                                                                                                                   \n",
      " key_metadata       | null                                                                                                                                                             \n",
      " split_offsets      | [4]                                                                                                                                                              \n",
      " equality_ids       | null                                                                                                                                                             \n",
      " sort_order_id      | 0                                                                                                                                                                \n",
      " readable_metrics   | {{18900, 6302, 0, null, 49, 412292}, {67452, 6302, 0, null,  Clara, zlmeler}, {2911, 6302, 0, null, 1, \\N}, {75, 6302, 0, null, 1994, 1994}}                     \n",
      "only showing top 20 rows\n",
      "\n"
     ]
    }
   ],
   "source": [
    "x=spark.sql('SELECT * FROM iceberg.movies.files;')\n",
    "x.show(truncate=False,vertical = True)"
   ]
  },
  {
   "cell_type": "code",
   "execution_count": 52,
   "id": "12e7cbf9-ab54-42a4-891c-db1c04527dca",
   "metadata": {},
   "outputs": [
    {
     "name": "stdout",
     "output_type": "stream",
     "text": [
      "+--------------------+-------------------+-------------------+-------------------+\n",
      "|     made_current_at|        snapshot_id|          parent_id|is_current_ancestor|\n",
      "+--------------------+-------------------+-------------------+-------------------+\n",
      "|2024-09-12 00:17:...|5624801734738711238|               null|               true|\n",
      "|2024-09-12 00:20:...|7334931249918322859|5624801734738711238|               true|\n",
      "|2024-09-12 09:30:...|3961187701446087615|7334931249918322859|               true|\n",
      "|2024-09-12 15:35:...|6400500400627584846|3961187701446087615|               true|\n",
      "+--------------------+-------------------+-------------------+-------------------+\n",
      "\n"
     ]
    }
   ],
   "source": [
    "spark.sql('SELECT * FROM iceberg.movies.history;').show()"
   ]
  },
  {
   "cell_type": "code",
   "execution_count": 53,
   "id": "6d5d6cc9-eafe-49a7-b4c2-751075d65753",
   "metadata": {},
   "outputs": [
    {
     "name": "stdout",
     "output_type": "stream",
     "text": [
      "-RECORD 0---------------------------------------------------------------------------------------------------------------------------------------------------------------------------------------------------------------------------------------------------------------------------------------------------------------------------------------------------------------------------------------------------------------------------------------------------------------------------------------------------------------------------------------------------------------------------------------------\n",
      " committed_at  | 2024-09-12 00:17:33.241                                                                                                                                                                                                                                                                                                                                                                                                                                                                                                                                                              \n",
      " snapshot_id   | 5624801734738711238                                                                                                                                                                                                                                                                                                                                                                                                                                                                                                                                                                  \n",
      " parent_id     | null                                                                                                                                                                                                                                                                                                                                                                                                                                                                                                                                                                                 \n",
      " operation     | overwrite                                                                                                                                                                                                                                                                                                                                                                                                                                                                                                                                                                            \n",
      " manifest_list | iceberg-warehouse/movies/metadata/snap-5624801734738711238-1-18be2ef2-8376-46d7-960c-b2fac87623d8.avro                                                                                                                                                                                                                                                                                                                                                                                                                                                                               \n",
      " summary       | {spark.app.id -> local-1726080019634, added-data-files -> 122, added-records -> 302134, added-files-size -> 4423040, changed-partition-count -> 122, total-records -> 302134, total-files-size -> 4423040, total-data-files -> 122, total-delete-files -> 0, total-position-deletes -> 0, total-equality-deletes -> 0, engine-version -> 3.4.3, app-id -> local-1726080019634, engine-name -> spark, iceberg-version -> Apache Iceberg 1.6.1 (commit 8e9d59d299be42b0bca9461457cd1e95dbaad086)}                                                                                      \n",
      "-RECORD 1---------------------------------------------------------------------------------------------------------------------------------------------------------------------------------------------------------------------------------------------------------------------------------------------------------------------------------------------------------------------------------------------------------------------------------------------------------------------------------------------------------------------------------------------------------------------------------------------\n",
      " committed_at  | 2024-09-12 00:20:54.004                                                                                                                                                                                                                                                                                                                                                                                                                                                                                                                                                              \n",
      " snapshot_id   | 7334931249918322859                                                                                                                                                                                                                                                                                                                                                                                                                                                                                                                                                                  \n",
      " parent_id     | 5624801734738711238                                                                                                                                                                                                                                                                                                                                                                                                                                                                                                                                                                  \n",
      " operation     | overwrite                                                                                                                                                                                                                                                                                                                                                                                                                                                                                                                                                                            \n",
      " manifest_list | iceberg-warehouse/movies/metadata/snap-7334931249918322859-1-cefb8f46-281d-44d0-8b0b-3ddb1b5a9ad5.avro                                                                                                                                                                                                                                                                                                                                                                                                                                                                               \n",
      " summary       | {spark.app.id -> local-1726080019634, added-data-files -> 6, deleted-data-files -> 122, added-records -> 48230, deleted-records -> 302134, added-files-size -> 681818, removed-files-size -> 4423040, changed-partition-count -> 122, total-records -> 48230, total-files-size -> 681818, total-data-files -> 6, total-delete-files -> 0, total-position-deletes -> 0, total-equality-deletes -> 0, engine-version -> 3.4.3, app-id -> local-1726080019634, engine-name -> spark, iceberg-version -> Apache Iceberg 1.6.1 (commit 8e9d59d299be42b0bca9461457cd1e95dbaad086)}         \n",
      "-RECORD 2---------------------------------------------------------------------------------------------------------------------------------------------------------------------------------------------------------------------------------------------------------------------------------------------------------------------------------------------------------------------------------------------------------------------------------------------------------------------------------------------------------------------------------------------------------------------------------------------\n",
      " committed_at  | 2024-09-12 09:30:54.82                                                                                                                                                                                                                                                                                                                                                                                                                                                                                                                                                               \n",
      " snapshot_id   | 3961187701446087615                                                                                                                                                                                                                                                                                                                                                                                                                                                                                                                                                                  \n",
      " parent_id     | 7334931249918322859                                                                                                                                                                                                                                                                                                                                                                                                                                                                                                                                                                  \n",
      " operation     | overwrite                                                                                                                                                                                                                                                                                                                                                                                                                                                                                                                                                                            \n",
      " manifest_list | iceberg-warehouse/movies/metadata/snap-3961187701446087615-1-9591ccc5-5416-44f1-9492-7f97c2e71993.avro                                                                                                                                                                                                                                                                                                                                                                                                                                                                               \n",
      " summary       | {spark.app.id -> local-1726113624173, added-data-files -> 122, deleted-data-files -> 6, added-records -> 302134, deleted-records -> 48230, added-files-size -> 4423040, removed-files-size -> 681818, changed-partition-count -> 122, total-records -> 302134, total-files-size -> 4423040, total-data-files -> 122, total-delete-files -> 0, total-position-deletes -> 0, total-equality-deletes -> 0, engine-version -> 3.4.3, app-id -> local-1726113624173, engine-name -> spark, iceberg-version -> Apache Iceberg 1.6.1 (commit 8e9d59d299be42b0bca9461457cd1e95dbaad086)}     \n",
      "-RECORD 3---------------------------------------------------------------------------------------------------------------------------------------------------------------------------------------------------------------------------------------------------------------------------------------------------------------------------------------------------------------------------------------------------------------------------------------------------------------------------------------------------------------------------------------------------------------------------------------------\n",
      " committed_at  | 2024-09-12 15:35:31.193                                                                                                                                                                                                                                                                                                                                                                                                                                                                                                                                                              \n",
      " snapshot_id   | 6400500400627584846                                                                                                                                                                                                                                                                                                                                                                                                                                                                                                                                                                  \n",
      " parent_id     | 3961187701446087615                                                                                                                                                                                                                                                                                                                                                                                                                                                                                                                                                                  \n",
      " operation     | overwrite                                                                                                                                                                                                                                                                                                                                                                                                                                                                                                                                                                            \n",
      " manifest_list | iceberg-warehouse/movies/metadata/snap-6400500400627584846-1-f93fccca-3537-48be-afa9-65d53e0f1c43.avro                                                                                                                                                                                                                                                                                                                                                                                                                                                                               \n",
      " summary       | {spark.app.id -> local-1726134947477, added-data-files -> 122, deleted-data-files -> 122, added-records -> 302134, deleted-records -> 302134, added-files-size -> 4423040, removed-files-size -> 4423040, changed-partition-count -> 122, total-records -> 302134, total-files-size -> 4423040, total-data-files -> 122, total-delete-files -> 0, total-position-deletes -> 0, total-equality-deletes -> 0, engine-version -> 3.4.3, app-id -> local-1726134947477, engine-name -> spark, iceberg-version -> Apache Iceberg 1.6.1 (commit 8e9d59d299be42b0bca9461457cd1e95dbaad086)} \n",
      "\n"
     ]
    }
   ],
   "source": [
    "x=spark.sql('SELECT * FROM iceberg.movies.snapshots;')\n",
    "x.show(truncate=False,vertical = True)"
   ]
  },
  {
   "cell_type": "code",
   "execution_count": null,
   "id": "c63b6242-f4bd-4888-bc91-7bea6bd0386e",
   "metadata": {},
   "outputs": [],
   "source": [
    "spark.sql(\"select h.made_current_at, s.operation, h.snapshot_id, h.is_current_ancestor, s.summary['spark.app.id'] from iceberg.movies.history h join iceberg.movies.snapshots s on h.snapshot_id = s.snapshot_id order by made_current_at\").show(truncate=False,vertical = True)"
   ]
  },
  {
   "cell_type": "code",
   "execution_count": 54,
   "id": "87551672-28ef-4449-bdf5-44c6af84b8ec",
   "metadata": {},
   "outputs": [
    {
     "name": "stdout",
     "output_type": "stream",
     "text": [
      "-RECORD 0-----------------------------------------------------------------------------------------------------\n",
      " content                     | 0                                                                              \n",
      " path                        | iceberg-warehouse/movies/metadata/f93fccca-3537-48be-afa9-65d53e0f1c43-m1.avro \n",
      " length                      | 15921                                                                          \n",
      " partition_spec_id           | 0                                                                              \n",
      " added_snapshot_id           | 6400500400627584846                                                            \n",
      " added_data_files_count      | 122                                                                            \n",
      " existing_data_files_count   | 0                                                                              \n",
      " deleted_data_files_count    | 0                                                                              \n",
      " added_delete_files_count    | 0                                                                              \n",
      " existing_delete_files_count | 0                                                                              \n",
      " deleted_delete_files_count  | 0                                                                              \n",
      " partition_summaries         | [{false, false, 1606, 90210}]                                                  \n",
      "-RECORD 1-----------------------------------------------------------------------------------------------------\n",
      " content                     | 0                                                                              \n",
      " path                        | iceberg-warehouse/movies/metadata/f93fccca-3537-48be-afa9-65d53e0f1c43-m0.avro \n",
      " length                      | 15937                                                                          \n",
      " partition_spec_id           | 0                                                                              \n",
      " added_snapshot_id           | 6400500400627584846                                                            \n",
      " added_data_files_count      | 0                                                                              \n",
      " existing_data_files_count   | 0                                                                              \n",
      " deleted_data_files_count    | 122                                                                            \n",
      " added_delete_files_count    | 0                                                                              \n",
      " existing_delete_files_count | 0                                                                              \n",
      " deleted_delete_files_count  | 0                                                                              \n",
      " partition_summaries         | [{false, false, 1606, 90210}]                                                  \n",
      "\n"
     ]
    },
    {
     "data": {
      "text/plain": [
       "'\\nFields within partition_summaries column of the manifests table correspond to field_summary struct within manifest_list, with the following order: \\ncontains_null - contains_nan - lower_bound - upper_bound\\nNote: contains_nan could return null, which indicates that this information is not available from files metadata\\n'"
      ]
     },
     "execution_count": 54,
     "metadata": {},
     "output_type": "execute_result"
    }
   ],
   "source": [
    "spark.sql('select * from iceberg.movies.manifests').show(truncate=False, vertical=True)\n",
    "\"\"\"\n",
    "Fields within partition_summaries column of the manifests table correspond to field_summary struct within manifest_list, with the following order: \n",
    "contains_null - contains_nan - lower_bound - upper_bound\n",
    "Note: contains_nan could return null, which indicates that this information is not available from files metadata\n",
    "\"\"\""
   ]
  },
  {
   "cell_type": "code",
   "execution_count": 55,
   "id": "2f71858b-9914-430f-84ff-ae523118ff0c",
   "metadata": {},
   "outputs": [
    {
     "name": "stdout",
     "output_type": "stream",
     "text": [
      "+-----+--------------------+----+-------+\n",
      "|   id|               movie|year|ranking|\n",
      "+-----+--------------------+----+-------+\n",
      "|12718|Alumnos de Chapul...|1896|     \\N|\n",
      "|12719|Alumnos de Chapul...|1896|     \\N|\n",
      "|13895|American Falls fr...|1896|     \\N|\n",
      "|15226|          Amy Muller|1896|    4.3|\n",
      "|17624|Annabelle in Flag...|1896|     \\N|\n",
      "|19429|            Aquarium|1896|     \\N|\n",
      "|20816|Arrive d'un train...|1896|     \\N|\n",
      "|20817|Arrive d'un train...|1896|     \\N|\n",
      "|20820|Arrive d'un train...|1896|     \\N|\n",
      "|21588|Asalto a sable de...|1896|     \\N|\n",
      "|23212|Atlantic City Bat...|1896|     \\N|\n",
      "|23215|Atlantic City Boa...|1896|     \\N|\n",
      "|23216|Atlantic City Boa...|1896|     \\N|\n",
      "|24687|           Autruches|1896|    5.4|\n",
      "|24981|Avenida da Liberdade|1896|     \\N|\n",
      "|25396|    Awakening of Rip|1896|     \\N|\n",
      "|25693|  Azenhas no Rio Ave|1896|     \\N|\n",
      "|26189|      Babies Quarrel|1896|    6.4|\n",
      "|27835|     Baignade en mer|1896|     \\N|\n",
      "|27862|Baile de la romer...|1896|     \\N|\n",
      "+-----+--------------------+----+-------+\n",
      "only showing top 20 rows\n",
      "\n"
     ]
    }
   ],
   "source": [
    "spark.sql(\"select * from iceberg.movies where id>2000 and id<300000\").show()"
   ]
  },
  {
   "cell_type": "code",
   "execution_count": 56,
   "id": "fe1bfddc-5803-45cc-8fa8-0765328c905f",
   "metadata": {},
   "outputs": [
    {
     "ename": "AnalysisException",
     "evalue": "Table iceberg.movies does not support partition management.; line 1 pos 16;\nShowPartitions [partition#1485]\n+- ResolvedTable org.apache.iceberg.spark.SparkCatalog@76531dad, movies, iceberg.movies, [id#1486, movie#1487, year#1488, ranking#1489]\n",
     "output_type": "error",
     "traceback": [
      "\u001b[1;31m---------------------------------------------------------------------------\u001b[0m",
      "\u001b[1;31mAnalysisException\u001b[0m                         Traceback (most recent call last)",
      "Cell \u001b[1;32mIn[56], line 1\u001b[0m\n\u001b[1;32m----> 1\u001b[0m \u001b[43mspark\u001b[49m\u001b[38;5;241;43m.\u001b[39;49m\u001b[43msql\u001b[49m\u001b[43m(\u001b[49m\u001b[38;5;124;43m'\u001b[39;49m\u001b[38;5;124;43mshow partitions iceberg.movies\u001b[39;49m\u001b[38;5;124;43m'\u001b[39;49m\u001b[43m)\u001b[49m\u001b[38;5;241m.\u001b[39mshow()\n\u001b[0;32m      2\u001b[0m \u001b[38;5;66;03m#spark UI\u001b[39;00m\n\u001b[0;32m      3\u001b[0m \u001b[38;5;66;03m#hive\u001b[39;00m\n\u001b[0;32m      4\u001b[0m \u001b[38;5;66;03m# In Apache Hive, the files in a partition are scanned at runtime, while in Iceberg there is a manifest file which improves performance.\u001b[39;00m\n",
      "File \u001b[1;32mc:\\spark\\python\\pyspark\\sql\\session.py:1440\u001b[0m, in \u001b[0;36mSparkSession.sql\u001b[1;34m(self, sqlQuery, args, **kwargs)\u001b[0m\n\u001b[0;32m   1438\u001b[0m \u001b[38;5;28;01mtry\u001b[39;00m:\n\u001b[0;32m   1439\u001b[0m     litArgs \u001b[38;5;241m=\u001b[39m {k: _to_java_column(lit(v)) \u001b[38;5;28;01mfor\u001b[39;00m k, v \u001b[38;5;129;01min\u001b[39;00m (args \u001b[38;5;129;01mor\u001b[39;00m {})\u001b[38;5;241m.\u001b[39mitems()}\n\u001b[1;32m-> 1440\u001b[0m     \u001b[38;5;28;01mreturn\u001b[39;00m DataFrame(\u001b[38;5;28;43mself\u001b[39;49m\u001b[38;5;241;43m.\u001b[39;49m\u001b[43m_jsparkSession\u001b[49m\u001b[38;5;241;43m.\u001b[39;49m\u001b[43msql\u001b[49m\u001b[43m(\u001b[49m\u001b[43msqlQuery\u001b[49m\u001b[43m,\u001b[49m\u001b[43m \u001b[49m\u001b[43mlitArgs\u001b[49m\u001b[43m)\u001b[49m, \u001b[38;5;28mself\u001b[39m)\n\u001b[0;32m   1441\u001b[0m \u001b[38;5;28;01mfinally\u001b[39;00m:\n\u001b[0;32m   1442\u001b[0m     \u001b[38;5;28;01mif\u001b[39;00m \u001b[38;5;28mlen\u001b[39m(kwargs) \u001b[38;5;241m>\u001b[39m \u001b[38;5;241m0\u001b[39m:\n",
      "File \u001b[1;32mc:\\spark\\python\\lib\\py4j-0.10.9.7-src.zip\\py4j\\java_gateway.py:1322\u001b[0m, in \u001b[0;36mJavaMember.__call__\u001b[1;34m(self, *args)\u001b[0m\n\u001b[0;32m   1316\u001b[0m command \u001b[38;5;241m=\u001b[39m proto\u001b[38;5;241m.\u001b[39mCALL_COMMAND_NAME \u001b[38;5;241m+\u001b[39m\\\n\u001b[0;32m   1317\u001b[0m     \u001b[38;5;28mself\u001b[39m\u001b[38;5;241m.\u001b[39mcommand_header \u001b[38;5;241m+\u001b[39m\\\n\u001b[0;32m   1318\u001b[0m     args_command \u001b[38;5;241m+\u001b[39m\\\n\u001b[0;32m   1319\u001b[0m     proto\u001b[38;5;241m.\u001b[39mEND_COMMAND_PART\n\u001b[0;32m   1321\u001b[0m answer \u001b[38;5;241m=\u001b[39m \u001b[38;5;28mself\u001b[39m\u001b[38;5;241m.\u001b[39mgateway_client\u001b[38;5;241m.\u001b[39msend_command(command)\n\u001b[1;32m-> 1322\u001b[0m return_value \u001b[38;5;241m=\u001b[39m \u001b[43mget_return_value\u001b[49m\u001b[43m(\u001b[49m\n\u001b[0;32m   1323\u001b[0m \u001b[43m    \u001b[49m\u001b[43manswer\u001b[49m\u001b[43m,\u001b[49m\u001b[43m \u001b[49m\u001b[38;5;28;43mself\u001b[39;49m\u001b[38;5;241;43m.\u001b[39;49m\u001b[43mgateway_client\u001b[49m\u001b[43m,\u001b[49m\u001b[43m \u001b[49m\u001b[38;5;28;43mself\u001b[39;49m\u001b[38;5;241;43m.\u001b[39;49m\u001b[43mtarget_id\u001b[49m\u001b[43m,\u001b[49m\u001b[43m \u001b[49m\u001b[38;5;28;43mself\u001b[39;49m\u001b[38;5;241;43m.\u001b[39;49m\u001b[43mname\u001b[49m\u001b[43m)\u001b[49m\n\u001b[0;32m   1325\u001b[0m \u001b[38;5;28;01mfor\u001b[39;00m temp_arg \u001b[38;5;129;01min\u001b[39;00m temp_args:\n\u001b[0;32m   1326\u001b[0m     \u001b[38;5;28;01mif\u001b[39;00m \u001b[38;5;28mhasattr\u001b[39m(temp_arg, \u001b[38;5;124m\"\u001b[39m\u001b[38;5;124m_detach\u001b[39m\u001b[38;5;124m\"\u001b[39m):\n",
      "File \u001b[1;32mc:\\spark\\python\\pyspark\\errors\\exceptions\\captured.py:175\u001b[0m, in \u001b[0;36mcapture_sql_exception.<locals>.deco\u001b[1;34m(*a, **kw)\u001b[0m\n\u001b[0;32m    171\u001b[0m converted \u001b[38;5;241m=\u001b[39m convert_exception(e\u001b[38;5;241m.\u001b[39mjava_exception)\n\u001b[0;32m    172\u001b[0m \u001b[38;5;28;01mif\u001b[39;00m \u001b[38;5;129;01mnot\u001b[39;00m \u001b[38;5;28misinstance\u001b[39m(converted, UnknownException):\n\u001b[0;32m    173\u001b[0m     \u001b[38;5;66;03m# Hide where the exception came from that shows a non-Pythonic\u001b[39;00m\n\u001b[0;32m    174\u001b[0m     \u001b[38;5;66;03m# JVM exception message.\u001b[39;00m\n\u001b[1;32m--> 175\u001b[0m     \u001b[38;5;28;01mraise\u001b[39;00m converted \u001b[38;5;28;01mfrom\u001b[39;00m \u001b[38;5;28;01mNone\u001b[39;00m\n\u001b[0;32m    176\u001b[0m \u001b[38;5;28;01melse\u001b[39;00m:\n\u001b[0;32m    177\u001b[0m     \u001b[38;5;28;01mraise\u001b[39;00m\n",
      "\u001b[1;31mAnalysisException\u001b[0m: Table iceberg.movies does not support partition management.; line 1 pos 16;\nShowPartitions [partition#1485]\n+- ResolvedTable org.apache.iceberg.spark.SparkCatalog@76531dad, movies, iceberg.movies, [id#1486, movie#1487, year#1488, ranking#1489]\n"
     ]
    }
   ],
   "source": [
    "spark.sql('show partitions iceberg.movies').show()\n",
    "#spark UI\n",
    "#hive\n",
    "# In Apache Hive, the files in a partition are scanned at runtime, while in Iceberg there is a manifest file which improves performance."
   ]
  },
  {
   "cell_type": "code",
   "execution_count": 58,
   "id": "ee7a2cc3-1182-473b-9c4c-142e7b43fb3f",
   "metadata": {},
   "outputs": [
    {
     "name": "stdout",
     "output_type": "stream",
     "text": [
      "+---+--------------------+----+-------+\n",
      "| id|               movie|year|ranking|\n",
      "+---+--------------------+----+-------+\n",
      "| 15|                 $30|1999|    7.5|\n",
      "| 31|               $pent|2000|    4.3|\n",
      "| 34|             & frres|2000|     \\N|\n",
      "| 64|       'Bats' Abound|1999|     \\N|\n",
      "| 66|'Betty Bee' (sopr...|1999|     \\N|\n",
      "|101|'El Chicko' - der...|1995|    4.1|\n",
      "|118|'Halloween' Unmas...|1999|     \\N|\n",
      "|136|'Java Madness' fo...|1995|    6.6|\n",
      "|145|'Ks-Bels' letmdja...|1995|     \\N|\n",
      "|152|            'M' Word|1996|     \\N|\n",
      "|155|'Man Who Couldn't...|1996|     \\N|\n",
      "|176|'N Sync & Britney...|2000|     \\N|\n",
      "|177|  'N Sync In Concert|1998|     \\N|\n",
      "|178|'N Sync: 'Ntimate...|2000|     \\N|\n",
      "|179|'N Sync: Live Fro...|2000|     \\N|\n",
      "|180|'N Sync: Making t...|2000|     \\N|\n",
      "|181|'N Sync: No Strin...|1999|     \\N|\n",
      "|184|'Ne gnstige Geleg...|1999|    4.6|\n",
      "|199|         'O' de amor|1995|     \\N|\n",
      "|201|'On the Inside: C...|2000|     \\N|\n",
      "+---+--------------------+----+-------+\n",
      "only showing top 20 rows\n",
      "\n",
      "++\n",
      "||\n",
      "++\n",
      "++\n",
      "\n"
     ]
    }
   ],
   "source": [
    "df = spark.read.format('CSV').option('header','true').load('movies_2482024.csv')\n",
    "df.createOrReplaceTempView('temp_movies_r')\n",
    "df = spark.sql('select * from temp_movies_r where year >= 1995 and year <= 2000')\n",
    "df.createOrReplaceTempView('temp_movies_r')\n",
    "df.show()\n",
    "spark.sql(\"insert overwrite table iceberg.movies select CAST(id as decimal(14,0)) as id, movie, CAST(year as decimal(14,0)) as year, ranking from temp_movies_r\").show()"
   ]
  },
  {
   "cell_type": "code",
   "execution_count": 59,
   "id": "918d8a19-f0af-4969-ab7f-a791ef3f940f",
   "metadata": {},
   "outputs": [
    {
     "name": "stdout",
     "output_type": "stream",
     "text": [
      "-RECORD 0---------\n",
      " count(1) | 48230 \n",
      "\n"
     ]
    }
   ],
   "source": [
    "spark.sql('select count(*) from iceberg.movies').show(truncate=False, vertical=True)"
   ]
  },
  {
   "cell_type": "code",
   "execution_count": 60,
   "id": "13a3b561-10c4-4a8e-84b6-150e195254bb",
   "metadata": {},
   "outputs": [
    {
     "name": "stdout",
     "output_type": "stream",
     "text": [
      "-RECORD 0----------\n",
      " count(1) | 302134 \n",
      "\n"
     ]
    }
   ],
   "source": [
    "spark.sql('select count(*) from iceberg.movies for SYSTEM_TIME as of \"2024-09-12 00:19:54.899\"').show(truncate=False, vertical=True)"
   ]
  },
  {
   "cell_type": "code",
   "execution_count": 61,
   "id": "d66c62d5-92e2-4647-90ba-f9002ebf2dc6",
   "metadata": {},
   "outputs": [
    {
     "name": "stdout",
     "output_type": "stream",
     "text": [
      "-RECORD 0----------\n",
      " count(1) | 302134 \n",
      "\n"
     ]
    }
   ],
   "source": [
    "spark.sql('select count(*) from iceberg.movies for SYSTEM_VERSION as of \"5624801734738711238\"').show(truncate=False, vertical=True)"
   ]
  },
  {
   "cell_type": "code",
   "execution_count": null,
   "id": "4534d118-c04a-460f-920d-7d15ed920488",
   "metadata": {},
   "outputs": [],
   "source": [
    "spark.sql('select count(*) from iceberg.movies for SYSTEM_VERSION as of \"7334931249918322859\"').show(truncate=False, vertical=True)"
   ]
  },
  {
   "cell_type": "code",
   "execution_count": null,
   "id": "96f26682-11ee-4583-8d85-22ab67bcaf1a",
   "metadata": {},
   "outputs": [],
   "source": [
    "spark.sql('select count(*) from iceberg.movies for SYSTEM_VERSION as of \"3651939683099648566\"').show(truncate=False, vertical=True)"
   ]
  },
  {
   "cell_type": "code",
   "execution_count": null,
   "id": "d837a8bd-5f1e-4df5-a6ce-ff7c3eb8dd17",
   "metadata": {},
   "outputs": [],
   "source": [
    "spark.sql('select count(*) from iceberg.movies for SYSTEM_VERSION as of \"8158436517200082356\"').show(truncate=False, vertical=True)"
   ]
  },
  {
   "cell_type": "code",
   "execution_count": null,
   "id": "e6606f48-3072-43e2-8ba4-63390e23a7fa",
   "metadata": {},
   "outputs": [],
   "source": [
    "spark.read.option(\"snapshot-id\", 7334931249918322859).table(\"iceberg.movies\").show()"
   ]
  },
  {
   "cell_type": "code",
   "execution_count": 62,
   "id": "46f7704b-338f-4b5f-8a8d-08903fb9aa02",
   "metadata": {},
   "outputs": [
    {
     "ename": "ParseException",
     "evalue": "\nOperation not allowed: ROLLBACK.(line 1, pos 0)\n\n== SQL ==\nROLLBACK TABLE iceberg.movies TO SNAPSHOT '3961187701446087615'\n^^^\n",
     "output_type": "error",
     "traceback": [
      "\u001b[1;31m---------------------------------------------------------------------------\u001b[0m",
      "\u001b[1;31mParseException\u001b[0m                            Traceback (most recent call last)",
      "Cell \u001b[1;32mIn[62], line 1\u001b[0m\n\u001b[1;32m----> 1\u001b[0m \u001b[43mspark\u001b[49m\u001b[38;5;241;43m.\u001b[39;49m\u001b[43msql\u001b[49m\u001b[43m(\u001b[49m\u001b[38;5;124;43m\"\u001b[39;49m\u001b[38;5;124;43mROLLBACK TABLE iceberg.movies TO SNAPSHOT \u001b[39;49m\u001b[38;5;124;43m'\u001b[39;49m\u001b[38;5;124;43m3961187701446087615\u001b[39;49m\u001b[38;5;124;43m'\u001b[39;49m\u001b[38;5;124;43m\"\u001b[39;49m\u001b[43m)\u001b[49m\n\u001b[0;32m      2\u001b[0m \u001b[38;5;66;03m# spark.sql(\"CALL iceberg.system.rollback_to_snapshot('iceberg.movies', '6687819643318083920')\")\u001b[39;00m\n\u001b[0;32m      3\u001b[0m \u001b[38;5;66;03m# spark.sql(\"ALTER TABLE iceberg.movies EXECUTE ROLLBACK(3651939683099648566);\")\u001b[39;00m\n",
      "File \u001b[1;32mc:\\spark\\python\\pyspark\\sql\\session.py:1440\u001b[0m, in \u001b[0;36mSparkSession.sql\u001b[1;34m(self, sqlQuery, args, **kwargs)\u001b[0m\n\u001b[0;32m   1438\u001b[0m \u001b[38;5;28;01mtry\u001b[39;00m:\n\u001b[0;32m   1439\u001b[0m     litArgs \u001b[38;5;241m=\u001b[39m {k: _to_java_column(lit(v)) \u001b[38;5;28;01mfor\u001b[39;00m k, v \u001b[38;5;129;01min\u001b[39;00m (args \u001b[38;5;129;01mor\u001b[39;00m {})\u001b[38;5;241m.\u001b[39mitems()}\n\u001b[1;32m-> 1440\u001b[0m     \u001b[38;5;28;01mreturn\u001b[39;00m DataFrame(\u001b[38;5;28;43mself\u001b[39;49m\u001b[38;5;241;43m.\u001b[39;49m\u001b[43m_jsparkSession\u001b[49m\u001b[38;5;241;43m.\u001b[39;49m\u001b[43msql\u001b[49m\u001b[43m(\u001b[49m\u001b[43msqlQuery\u001b[49m\u001b[43m,\u001b[49m\u001b[43m \u001b[49m\u001b[43mlitArgs\u001b[49m\u001b[43m)\u001b[49m, \u001b[38;5;28mself\u001b[39m)\n\u001b[0;32m   1441\u001b[0m \u001b[38;5;28;01mfinally\u001b[39;00m:\n\u001b[0;32m   1442\u001b[0m     \u001b[38;5;28;01mif\u001b[39;00m \u001b[38;5;28mlen\u001b[39m(kwargs) \u001b[38;5;241m>\u001b[39m \u001b[38;5;241m0\u001b[39m:\n",
      "File \u001b[1;32mc:\\spark\\python\\lib\\py4j-0.10.9.7-src.zip\\py4j\\java_gateway.py:1322\u001b[0m, in \u001b[0;36mJavaMember.__call__\u001b[1;34m(self, *args)\u001b[0m\n\u001b[0;32m   1316\u001b[0m command \u001b[38;5;241m=\u001b[39m proto\u001b[38;5;241m.\u001b[39mCALL_COMMAND_NAME \u001b[38;5;241m+\u001b[39m\\\n\u001b[0;32m   1317\u001b[0m     \u001b[38;5;28mself\u001b[39m\u001b[38;5;241m.\u001b[39mcommand_header \u001b[38;5;241m+\u001b[39m\\\n\u001b[0;32m   1318\u001b[0m     args_command \u001b[38;5;241m+\u001b[39m\\\n\u001b[0;32m   1319\u001b[0m     proto\u001b[38;5;241m.\u001b[39mEND_COMMAND_PART\n\u001b[0;32m   1321\u001b[0m answer \u001b[38;5;241m=\u001b[39m \u001b[38;5;28mself\u001b[39m\u001b[38;5;241m.\u001b[39mgateway_client\u001b[38;5;241m.\u001b[39msend_command(command)\n\u001b[1;32m-> 1322\u001b[0m return_value \u001b[38;5;241m=\u001b[39m \u001b[43mget_return_value\u001b[49m\u001b[43m(\u001b[49m\n\u001b[0;32m   1323\u001b[0m \u001b[43m    \u001b[49m\u001b[43manswer\u001b[49m\u001b[43m,\u001b[49m\u001b[43m \u001b[49m\u001b[38;5;28;43mself\u001b[39;49m\u001b[38;5;241;43m.\u001b[39;49m\u001b[43mgateway_client\u001b[49m\u001b[43m,\u001b[49m\u001b[43m \u001b[49m\u001b[38;5;28;43mself\u001b[39;49m\u001b[38;5;241;43m.\u001b[39;49m\u001b[43mtarget_id\u001b[49m\u001b[43m,\u001b[49m\u001b[43m \u001b[49m\u001b[38;5;28;43mself\u001b[39;49m\u001b[38;5;241;43m.\u001b[39;49m\u001b[43mname\u001b[49m\u001b[43m)\u001b[49m\n\u001b[0;32m   1325\u001b[0m \u001b[38;5;28;01mfor\u001b[39;00m temp_arg \u001b[38;5;129;01min\u001b[39;00m temp_args:\n\u001b[0;32m   1326\u001b[0m     \u001b[38;5;28;01mif\u001b[39;00m \u001b[38;5;28mhasattr\u001b[39m(temp_arg, \u001b[38;5;124m\"\u001b[39m\u001b[38;5;124m_detach\u001b[39m\u001b[38;5;124m\"\u001b[39m):\n",
      "File \u001b[1;32mc:\\spark\\python\\pyspark\\errors\\exceptions\\captured.py:175\u001b[0m, in \u001b[0;36mcapture_sql_exception.<locals>.deco\u001b[1;34m(*a, **kw)\u001b[0m\n\u001b[0;32m    171\u001b[0m converted \u001b[38;5;241m=\u001b[39m convert_exception(e\u001b[38;5;241m.\u001b[39mjava_exception)\n\u001b[0;32m    172\u001b[0m \u001b[38;5;28;01mif\u001b[39;00m \u001b[38;5;129;01mnot\u001b[39;00m \u001b[38;5;28misinstance\u001b[39m(converted, UnknownException):\n\u001b[0;32m    173\u001b[0m     \u001b[38;5;66;03m# Hide where the exception came from that shows a non-Pythonic\u001b[39;00m\n\u001b[0;32m    174\u001b[0m     \u001b[38;5;66;03m# JVM exception message.\u001b[39;00m\n\u001b[1;32m--> 175\u001b[0m     \u001b[38;5;28;01mraise\u001b[39;00m converted \u001b[38;5;28;01mfrom\u001b[39;00m \u001b[38;5;28;01mNone\u001b[39;00m\n\u001b[0;32m    176\u001b[0m \u001b[38;5;28;01melse\u001b[39;00m:\n\u001b[0;32m    177\u001b[0m     \u001b[38;5;28;01mraise\u001b[39;00m\n",
      "\u001b[1;31mParseException\u001b[0m: \nOperation not allowed: ROLLBACK.(line 1, pos 0)\n\n== SQL ==\nROLLBACK TABLE iceberg.movies TO SNAPSHOT '3961187701446087615'\n^^^\n"
     ]
    }
   ],
   "source": [
    "spark.sql(\"ROLLBACK TABLE iceberg.movies TO SNAPSHOT '3961187701446087615'\")\n",
    "# spark.sql(\"CALL iceberg.system.rollback_to_snapshot('iceberg.movies', '6687819643318083920')\")\n",
    "# spark.sql(\"ALTER TABLE iceberg.movies EXECUTE ROLLBACK(3651939683099648566);\")"
   ]
  },
  {
   "cell_type": "code",
   "execution_count": null,
   "id": "31d25ba9-9856-4d86-92ec-608cd3a4cb05",
   "metadata": {},
   "outputs": [],
   "source": []
  }
 ],
 "metadata": {
  "kernelspec": {
   "display_name": "Python 3 (ipykernel)",
   "language": "python",
   "name": "python3"
  },
  "language_info": {
   "codemirror_mode": {
    "name": "ipython",
    "version": 3
   },
   "file_extension": ".py",
   "mimetype": "text/x-python",
   "name": "python",
   "nbconvert_exporter": "python",
   "pygments_lexer": "ipython3",
   "version": "3.11.9"
  }
 },
 "nbformat": 4,
 "nbformat_minor": 5
}
